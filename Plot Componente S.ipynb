{
 "cells": [
  {
   "cell_type": "code",
   "execution_count": null,
   "metadata": {},
   "outputs": [],
   "source": [
    "%matplotlib nbagg\n",
    "import matplotlib.pyplot as plt\n",
    "from matplotlib.dates import DateFormatter\n",
    "import pandas as pd\n",
    "import numpy as np"
   ]
  },
  {
   "cell_type": "code",
   "execution_count": null,
   "metadata": {
    "scrolled": false
   },
   "outputs": [],
   "source": [
    "dados = pd.read_csv('componente_s.txt', sep=\" \", index_col=0)\n",
    "dados.index = dados.index.map(lambda x: x.replace(\"_\", \" \"))\n",
    "dados.index = pd.to_datetime(dados.index)"
   ]
  },
  {
   "cell_type": "code",
   "execution_count": null,
   "metadata": {},
   "outputs": [],
   "source": [
    "compsr = (dados[\"solR\"] - dados[\"ceuR\"]) / (dados[\"loadR\"] - dados[\"ceuR\"]) * 300 * 0.38\n",
    "compsl = (dados[\"solL\"] - dados[\"ceuL\"]) / (dados[\"loadL\"] - dados[\"ceuL\"]) * 300 * 0.38"
   ]
  },
  {
   "cell_type": "code",
   "execution_count": null,
   "metadata": {
    "scrolled": false
   },
   "outputs": [],
   "source": [
    "fig, axis = plt.subplots()\n",
    "\n",
    "axis.plot(dados.index, compsr, label=\"R\")\n",
    "axis.plot(dados.index, compsl, label=\"L\")\n",
    "axis.set_ylim([0, 500])\n",
    "\n",
    "axis.xaxis.set_major_formatter(DateFormatter(\"%D\"))\n",
    "\n",
    "axis.set_title(\"Componente S\")\n",
    "fig.legend()\n",
    "fig.savefig(\"componente_s\")"
   ]
  }
 ],
 "metadata": {
  "kernelspec": {
   "display_name": "Python 3",
   "language": "python",
   "name": "python3"
  },
  "language_info": {
   "codemirror_mode": {
    "name": "ipython",
    "version": 3
   },
   "file_extension": ".py",
   "mimetype": "text/x-python",
   "name": "python",
   "nbconvert_exporter": "python",
   "pygments_lexer": "ipython3",
   "version": "3.7.0"
  }
 },
 "nbformat": 4,
 "nbformat_minor": 2
}
