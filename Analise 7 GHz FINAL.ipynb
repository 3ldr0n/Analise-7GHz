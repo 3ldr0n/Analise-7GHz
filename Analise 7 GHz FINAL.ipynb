{
 "cells": [
  {
   "cell_type": "code",
   "execution_count": null,
   "metadata": {},
   "outputs": [],
   "source": [
    "%matplotlib nbagg\n",
    "from __future__ import print_function\n",
    "\n",
    "import os\n",
    "import datetime as dt\n",
    "import platform\n",
    "\n",
    "import matplotlib.pyplot as plt\n",
    "import numpy as np\n",
    "import pandas as pd\n",
    "\n",
    "from matplotlib.dates import num2date, DateFormatter, hours\n",
    "from matplotlib.backends.backend_pdf import PdfPages\n",
    "from scipy.io import readsav\n",
    "from sunpy.lightcurve import GOESLightCurve, LightCurve\n",
    "from sunpy.time import TimeRange\n",
    "from hekar import HEK\n",
    "from getrstn import GetRSTN\n",
    "\n",
    "from utils import (\n",
    "    onclick, posicao, calculo_de_indice,\n",
    "    load_dados, calculo_da_media, CAMINHO_ABSOLUTO,\n",
    "    ponto_mais_proximo\n",
    ")"
   ]
  },
  {
   "cell_type": "code",
   "execution_count": null,
   "metadata": {
    "scrolled": false
   },
   "outputs": [],
   "source": [
    "filename = '01110209'\n",
    "df, time, diretorio, data = load_dados('2002', filename)\n",
    "if platform.system() == \"Linux\":\n",
    "    pdf = PdfPages(CAMINHO_ABSOLUTO + diretorio + \"/Graficos.pdf\")\n",
    "else:\n",
    "    pdf = PdfPages(CAMINHO_ABSOLUTO + diretorio + \"\\\\Graficos.pdf\")"
   ]
  },
  {
   "cell_type": "code",
   "execution_count": null,
   "metadata": {
    "scrolled": false
   },
   "outputs": [],
   "source": [
    "# Faz as médias\n",
    "plt.rcParams['figure.figsize'] = 7,5\n",
    "fig1, axis = plt.subplots()\n",
    "\n",
    "# Usa o mesmo index do dataframe para o eixo x.\n",
    "\n",
    "axis.plot(df.index, df)\n",
    "axis.xaxis.set_major_formatter(DateFormatter('%H:%M'))\n",
    "fig1.canvas.mpl_connect('button_press_event', onclick)"
   ]
  },
  {
   "cell_type": "code",
   "execution_count": null,
   "metadata": {
    "scrolled": false
   },
   "outputs": [],
   "source": [
    "\"\"\"\n",
    " Ordem de seleção:\n",
    "  Os dois últimos (últimos) selecionados são usados para o calculo das médias.\n",
    "  Os dois penúltimos (primeiros) selecionados são usados para representar a média\n",
    "  no grafico.\n",
    "\"\"\"\n",
    "dados_da_media = calculo_da_media(df)\n",
    "\n",
    "indice_ig1 = dados_da_media[0]\n",
    "indice_ig2 = dados_da_media[1]\n",
    "medias = dados_da_media[2]\n",
    "media_final_r = medias['R']\n",
    "media_final_l = medias['L']\n",
    "tempo1_flare = dados_da_media[3]\n",
    "tempo2_flare = dados_da_media[4]"
   ]
  },
  {
   "cell_type": "code",
   "execution_count": null,
   "metadata": {
    "scrolled": false
   },
   "outputs": [],
   "source": [
    "fig_R, axis = plt.subplots()\n",
    "# Usa o mesmo index do dataframe para o eixo x.\n",
    "axis.plot(df.index[tempo1_flare:tempo2_flare], df[\"R\"][tempo1_flare:tempo2_flare])\n",
    "axis.xaxis.set_major_formatter(DateFormatter('%H:%M'))\n",
    "\n",
    "plt.plot([df.index[tempo1_flare], df.index[tempo2_flare]],[media_final_r, media_final_r])\n",
    "\n",
    "fig_L, axis = plt.subplots()\n",
    "# Usa o mesmo index do dataframe para o eixo x.\n",
    "axis.plot(df.index[tempo1_flare:tempo2_flare], df[\"L\"][tempo1_flare:tempo2_flare])\n",
    "axis.xaxis.set_major_formatter(DateFormatter('%H:%M'))\n",
    "\n",
    "plt.plot([df.index[tempo1_flare], df.index[tempo2_flare]],[media_final_l, media_final_l])"
   ]
  },
  {
   "cell_type": "code",
   "execution_count": null,
   "metadata": {},
   "outputs": [],
   "source": [
    "LM_normalizado = df[\"L_normalizado\"][tempo1_flare:tempo2_flare]\n",
    "RM_normalizado = df[\"R_normalizado\"][tempo1_flare:tempo2_flare]\n",
    "\n",
    "RL_V = df[\"R_normalizado\"][tempo1_flare:tempo2_flare] - df[\"L_normalizado\"][tempo1_flare:tempo2_flare]\n",
    "RL_I = df[\"L_normalizado\"][tempo1_flare:tempo2_flare] + df[\"R_normalizado\"][tempo1_flare:tempo2_flare]\n",
    "\n",
    "fig2, (axis, ax, ax2) = plt.subplots(3)\n",
    "# Usa o mesmo index do dataframe para o eixo x.\n",
    "axis.plot(df.index[tempo1_flare:tempo2_flare], LM_normalizado, label=\"L\")\n",
    "axis.plot(df.index[tempo1_flare:tempo2_flare], RM_normalizado, label=\"R\")\n",
    "axis.set_title(\"Analise 7 GHz\")\n",
    "axis.legend()\n",
    "axis.set_ylabel(\"Flux (SFU)\")\n",
    "\n",
    "ax.plot(df.index[tempo1_flare:tempo2_flare], RL_V)\n",
    "ax.set_ylabel(\"V (SFU)\")\n",
    "\n",
    "ax2.plot(df.index[tempo1_flare:tempo2_flare], RL_I)\n",
    "ax2.set_ylabel(\"I (SFU)\")\n",
    "axis.xaxis.set_major_formatter(DateFormatter('%H:%M'))\n",
    "pico_7ghz = max(RL_I)\n",
    "\n",
    "# Salva o gráfico.\n",
    "nome_do_arquivo = \"I-V-Flux(SFU)\"\n",
    "if platform.system() == \"Linux\":\n",
    "    fig2.savefig(CAMINHO_ABSOLUTO + diretorio + \"/\" + nome_do_arquivo)\n",
    "else:\n",
    "    fig2.savefig(CAMINHO_ABSOLUTO + diretorio + \"\\\\\" + nome_do_arquivo)\n",
    "fig2.savefig(pdf, format='pdf')"
   ]
  },
  {
   "cell_type": "markdown",
   "metadata": {},
   "source": [
    "## RSTN"
   ]
  },
  {
   "cell_type": "code",
   "execution_count": null,
   "metadata": {
    "scrolled": false
   },
   "outputs": [],
   "source": [
    "rstn = GetRSTN(data[\"dia\"], data[\"mes\"], data[\"ano\"], \"dados_rstn\")\n",
    "rstn.download_data()\n",
    "arquivo_rstn = rstn.decompress_file()\n",
    "if platform.system() == \"Linux\":\n",
    "    arquivo_rstn = \"dados_rstn/\" + arquivo_rstn\n",
    "else:\n",
    "    arquivo_rstn = \"dados_rstn\\\\\" + arquivo_rstn"
   ]
  },
  {
   "cell_type": "code",
   "execution_count": null,
   "metadata": {
    "scrolled": false
   },
   "outputs": [],
   "source": [
    "data = np.genfromtxt(arquivo_rstn, delimiter=2*[4]+5*[2]+8*[6], missing_values=515)\n",
    "\n",
    "# Frequencies in MHz\n",
    "f4995  = data[:,12] - np.nanmean(data[:,12])\n",
    "f8800  = data[:,13] - np.nanmean(data[:,13])\n",
    "f15400 = data[:,14] - np.nanmean(data[:,14])\n",
    "\n",
    "dados = {\n",
    "    \"f4995\": f4995,\n",
    "    \"f8800\": f8800,\n",
    "    \"f15400\": f15400\n",
    "}\n",
    "\n",
    "day = data[:,3]\n",
    "t = data[:,4] + data[:,5] / 60. + data[:,6] / 3600.         # Time in hours fractions\n",
    "tg = dt.date(2002,4,9).toordinal() + (day - 9) + hours(t)   # Gregorian time in day fractions\n",
    "timeg = num2date(tg)\n",
    "\n",
    "rstnlc = LightCurve.create({\"flux15400\": dados[\"f15400\"], \"flux8800\": dados[\"f8800\"], \"flux4995\": dados[\"f4995\"]}, index=timeg)\n",
    "fig = rstnlc.peek()\n",
    "fig.canvas.mpl_connect('button_press_event', onclick)"
   ]
  },
  {
   "cell_type": "code",
   "execution_count": null,
   "metadata": {
    "scrolled": false
   },
   "outputs": [],
   "source": [
    "posicao_inicial_rstn = posicao[-2]\n",
    "posicao_final_rstn = posicao[-1]\n",
    "\n",
    "p1 = num2date(posicao_inicial_rstn[0])\n",
    "p2 = num2date(posicao_final_rstn[0])\n",
    "\n",
    "f4995  = data[:,12] - np.nanmean(data[:,12])\n",
    "f8800  = data[:,13] - np.nanmean(data[:,13])\n",
    "f15400 = data[:,14] - np.nanmean(data[:,14])\n",
    "\n",
    "dados = {\n",
    "    \"f4995\": f4995,\n",
    "    \"f8800\": f8800,\n",
    "    \"f15400\": f15400\n",
    "}\n",
    "\n",
    "df_rstn = pd.DataFrame(dados, index=timeg)\n",
    "\n",
    "descarte, tempo_inicial = calculo_de_indice(df_rstn, p1)\n",
    "descarte, tempo_final = calculo_de_indice(df_rstn, p2)\n",
    "\n",
    "medias = calculo_da_media(df_rstn, True)\n",
    "\n",
    "fig, axis = plt.subplots()\n",
    "\n",
    "plt.title(\"RSTN Normalizado\")\n",
    "for column in df_rstn.columns:\n",
    "    if len(column) > 11:\n",
    "        label = column.replace(\"f\", \"flux\")\n",
    "        axis.plot(df_rstn.index, df_rstn[column], label=label)\n",
    "\n",
    "plt.legend()"
   ]
  },
  {
   "cell_type": "code",
   "execution_count": null,
   "metadata": {
    "scrolled": false
   },
   "outputs": [],
   "source": [
    "#  Pega o indice do tempo do pico no 7ghz para pegar o\n",
    "# indice no rstn, comparando os horários.\n",
    "\n",
    "for index, item in enumerate(RL_I):\n",
    "    if item == pico_7ghz:\n",
    "        indice_7ghz = index\n",
    "\n",
    "RL_I.index[indice_7ghz]\n",
    "\n",
    "tempo_proximo_rstn = ponto_mais_proximo(RL_I.index, RL_I.index[indice_7ghz])\n",
    "tempo_proximo_rstn = str(tempo_proximo_rstn)[:19]\n",
    "\n",
    "for index, item in enumerate(df_rstn[\"f8800_normalizado\"]):\n",
    "    tempo_rstn = str(df_rstn.index[index])[:19]\n",
    "    tempo_rstn = tempo_rstn[:5] + \"01\" + tempo_rstn[7:]\n",
    "    if tempo_proximo_rstn == tempo_rstn:\n",
    "        print(RL_I.index[indice_7ghz])\n",
    "        print(df_rstn.index[index])\n",
    "        indice_rstn = index"
   ]
  },
  {
   "cell_type": "markdown",
   "metadata": {},
   "source": [
    "## Espectro"
   ]
  },
  {
   "cell_type": "code",
   "execution_count": null,
   "metadata": {
    "scrolled": false
   },
   "outputs": [],
   "source": [
    "# Define os valores dos picos.\n",
    "pico_4995 = df_rstn[\"f4995_normalizado\"][indice_rstn]\n",
    "pico_8800 = df_rstn[\"f8800_normalizado\"][indice_rstn]\n",
    "pico_15400 = df_rstn[\"f15400_normalizado\"][indice_rstn]\n",
    "\n",
    "picos = {\n",
    "    \"4.995\": pico_4995,\n",
    "    \"7.0\": pico_7ghz,\n",
    "    \"8.8\": pico_8800,\n",
    "    \"15.4\": pico_15400\n",
    "}\n",
    "\n",
    "# Colocar os picos em ordem.\n",
    "picos_ordenados = [float(x) for x in picos.keys()]\n",
    "\n",
    "fig, axis = plt.subplots()\n",
    "\n",
    "for column in sorted(picos_ordenados):\n",
    "    axis.loglog(column*10**9, picos[str(column)], '-o', label=column)\n",
    "\n",
    "axis.set_xlabel(\"Freq.\")\n",
    "plt.title(\"Espectro\")\n",
    "plt.legend()\n",
    "\n",
    "nome_do_arquivo = \"espectro\"\n",
    "if platform.system() == \"Linux\":\n",
    "    caminho = CAMINHO_ABSOLUTO + diretorio + \"/\" + nome_do_arquivo\n",
    "else:\n",
    "    caminho = CAMINHO_ABSOLUTO + diretorio + \"\\\\\" + nome_do_arquivo\n",
    "fig.savefig(caminho)\n",
    "fig.savefig(pdf, format=\"pdf\")"
   ]
  },
  {
   "cell_type": "markdown",
   "metadata": {},
   "source": [
    "## Curva de luz GOES"
   ]
  },
  {
   "cell_type": "code",
   "execution_count": null,
   "metadata": {},
   "outputs": [],
   "source": [
    "comeco_flare = str(df.index[tempo1_flare])\n",
    "fim_flare = str(df.index[tempo2_flare])\n",
    "\n",
    "comeco_flare = comeco_flare[0:19].replace('-', '/')\n",
    "fim_flare = fim_flare[0:19].replace('-', '/')\n",
    "\n",
    "tr = TimeRange(comeco_flare, fim_flare)\n",
    "goes = GOESLightCurve.create(tr)"
   ]
  },
  {
   "cell_type": "code",
   "execution_count": null,
   "metadata": {},
   "outputs": [],
   "source": [
    "fig = goes.peek()\n",
    "\n",
    "deriv = np.gradient(goes.data['xrsa'])\n",
    "\n",
    "nome_do_arquivo = \"GOES\"\n",
    "# Salvar gráfico.\n",
    "if platform.system() == \"Linux\":\n",
    "    fig.savefig(CAMINHO_ABSOLUTO + diretorio + \"/\" + nome_do_arquivo)\n",
    "else:\n",
    "    fig.savefig(CAMINHO_ABSOLUTO + diretorio + \"\\\\\" + nome_do_arquivo)\n",
    "fig.savefig(pdf, format=\"pdf\")"
   ]
  },
  {
   "cell_type": "markdown",
   "metadata": {},
   "source": [
    "## Região Ativa"
   ]
  },
  {
   "cell_type": "code",
   "execution_count": null,
   "metadata": {},
   "outputs": [],
   "source": [
    "comeco_flare = comeco_flare.replace('/', '-')\n",
    "fim_flare = fim_flare.replace('/', '-')\n",
    "\n",
    "hek = HEK(comeco_flare.replace(' ', 'T'), fim_flare.replace(' ', 'T'))\n",
    "ar = hek.get_active_region()\n",
    "\n",
    "print(\"Região ativa: {}\".format(ar))"
   ]
  },
  {
   "cell_type": "markdown",
   "metadata": {},
   "source": [
    "## Grau de polarização"
   ]
  },
  {
   "cell_type": "code",
   "execution_count": null,
   "metadata": {},
   "outputs": [],
   "source": [
    "fig, axis = plt.subplots()\n",
    "# Usa o mesmo index do dataframe para o eixo x.\n",
    "axis.plot(df.index[tempo1_flare:tempo2_flare], LM_normalizado, label=\"L\")\n",
    "axis.plot(df.index[tempo1_flare:tempo2_flare], RM_normalizado, label=\"R\")\n",
    "axis.xaxis.set_major_formatter(DateFormatter('%H:%M'))\n",
    "\n",
    "axis.legend()\n",
    "axis.set_ylabel(\"Flux (SFU)\")\n",
    "axis.set_xlabel(\"Horário\")\n",
    "plt.title(\"Evento 7GHz\")\n",
    "\n",
    "fig.canvas.mpl_connect('button_press_event', onclick)\n",
    "\n",
    "filename = \"grafico_normalizado\"\n",
    "if platform.system() == \"Linux\":\n",
    "    fig.savefig(CAMINHO_ABSOLUTO + diretorio + \"/\" + filename)\n",
    "else:\n",
    "    fig.savefig(CAMINHO_ABSOLUTO + diretorio + \"\\\\\" + filename)\n",
    "fig.savefig(pdf, format=\"pdf\")"
   ]
  },
  {
   "cell_type": "code",
   "execution_count": null,
   "metadata": {},
   "outputs": [],
   "source": [
    "posicao_inicial= num2date(posicao[-1][0])\n",
    "indice_de_y1 = calculo_de_indice(df,posicao_inicial)\n",
    "\n",
    "pico_R = max(df[\"R_normalizado\"][tempo1_flare:tempo2_flare])\n",
    "pico_L = max(df[\"L_normalizado\"][tempo1_flare:tempo2_flare])\n",
    "\n",
    "ponto_do_r_inicial = indice_de_y1[0][2]\n",
    "print('Ponto do R inicial:', ponto_do_r_inicial)\n",
    "\n",
    "ponto_do_r_no_pico = float(str(pico_R)[0:7])\n",
    "print('Ponto do R no pico:', ponto_do_r_no_pico)\n",
    "\n",
    "ponto_do_l_inicial = indice_de_y1[0][3]\n",
    "print('Ponto do L incial:', ponto_do_l_inicial)\n",
    "\n",
    "ponto_do_l_no_pico = float(str(pico_L)[0:7])\n",
    "print('Ponto do L no pico:', ponto_do_l_no_pico)\n",
    "\n",
    "# Procura o horario do pico.\n",
    "for data in enumerate(df[\"R_normalizado\"]):\n",
    "    # Se encontrar o valor do pico, cria a variavel horario_do_pico.\n",
    "    if data[1] == pico_R:\n",
    "        horario_do_pico = df[\"R_normalizado\"].index[data[0]]\n",
    "\n",
    "tempo = str(horario_do_pico)[0:26]\n",
    "print('Tempo:', tempo)"
   ]
  },
  {
   "cell_type": "code",
   "execution_count": null,
   "metadata": {},
   "outputs": [],
   "source": [
    "I = ((ponto_do_r_no_pico - ponto_do_r_inicial) + (ponto_do_l_no_pico - ponto_do_l_inicial))\n",
    "print(\"Cálculo do I:\", I)\n",
    "V = ((ponto_do_r_no_pico - ponto_do_r_inicial) - (ponto_do_l_no_pico - ponto_do_l_inicial))\n",
    "print(\"Cálculo do V:\", V)"
   ]
  },
  {
   "cell_type": "code",
   "execution_count": null,
   "metadata": {},
   "outputs": [],
   "source": [
    "GP_dividendo = ((ponto_do_r_no_pico - ponto_do_r_inicial) - (ponto_do_l_no_pico - ponto_do_l_inicial))\n",
    "GP_divisor = ((ponto_do_r_no_pico - ponto_do_r_inicial) + (ponto_do_l_no_pico - ponto_do_l_inicial))\n",
    "\n",
    "# Grau de polarização.\n",
    "GP = (GP_dividendo / GP_divisor) * 100\n",
    "print('Grau de Polarização:', GP)"
   ]
  },
  {
   "cell_type": "code",
   "execution_count": null,
   "metadata": {},
   "outputs": [],
   "source": [
    "# Fecha e salva os graficos no pdf.\n",
    "pdf.close()\n",
    "\n",
    "resultados_finais = np.transpose([[tempo], [ponto_do_r_inicial], [ponto_do_l_inicial],\n",
    "                                  [ponto_do_r_no_pico], [ponto_do_l_no_pico], [GP],\n",
    "                                  [I], [V], [str(ar)]])\n",
    "\n",
    "a = pd.DataFrame(resultados_finais, columns = ['Time','PR','PL','PRP','PLP','GP','I','V', 'AR'])\n",
    "\n",
    "if platform.system() == \"Linux\":\n",
    "    a.to_csv(CAMINHO_ABSOLUTO + \"/dados_finais/dados.csv\", header=None, sep=' ', mode='a', index=False)\n",
    "else:\n",
    "    a.to_csv(CAMINHO_ABSOLUTO + \"\\dados_finais\\dados.csv\", header=None, sep=' ', mode='a', index=False)"
   ]
  }
 ],
 "metadata": {
  "kernelspec": {
   "display_name": "Python 3",
   "language": "python",
   "name": "python3"
  },
  "language_info": {
   "codemirror_mode": {
    "name": "ipython",
    "version": 3
   },
   "file_extension": ".py",
   "mimetype": "text/x-python",
   "name": "python",
   "nbconvert_exporter": "python",
   "pygments_lexer": "ipython3",
   "version": "3.6.5"
  }
 },
 "nbformat": 4,
 "nbformat_minor": 2
}
