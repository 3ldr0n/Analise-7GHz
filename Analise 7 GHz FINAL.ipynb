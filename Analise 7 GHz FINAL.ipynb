{
 "cells": [
  {
   "cell_type": "code",
   "execution_count": null,
   "metadata": {},
   "outputs": [],
   "source": [
    "from __future__ import print_function\n",
    "%matplotlib nbagg\n",
    "\n",
    "import datetime as dt\n",
    "import os\n",
    "import platform\n",
    "\n",
    "import matplotlib.pyplot as plt\n",
    "import numpy as np\n",
    "import pandas as pd\n",
    "\n",
    "from matplotlib.dates import num2date, DateFormatter\n",
    "from scipy.io import readsav\n",
    "from sunpy.time import TimeRange\n",
    "from sunpy.timeseries import TimeSeries\n",
    "from sunpy.net import Fido, attrs\n",
    "\n",
    "from getrstn import GetRSTN\n",
    "from noaareport import NoaaReport\n",
    "\n",
    "from utils import (\n",
    "    onclick, posicao, calculo_de_indice, load_dados,\n",
    "    calculo_da_media, CAMINHO_ABSOLUTO, ponto_mais_proximo,\n",
    "    get_correct_goes_index\n",
    ")"
   ]
  },
  {
   "cell_type": "code",
   "execution_count": null,
   "metadata": {
    "scrolled": false
   },
   "outputs": [],
   "source": [
    "dia = \"18\"\n",
    "mes = \"12\"\n",
    "ano = \"2009\"\n",
    "df, time, diretorio = load_dados(dia, mes, ano)"
   ]
  },
  {
   "cell_type": "code",
   "execution_count": null,
   "metadata": {
    "scrolled": false
   },
   "outputs": [],
   "source": [
    "plt.rcParams['figure.figsize'] = 7,5\n",
    "fig, axis = plt.subplots()\n",
    "\n",
    "# Usa o index do dataframe para o eixo x.\n",
    "axis.plot(df)\n",
    "axis.xaxis.set_major_formatter(DateFormatter('%H:%M'))\n",
    "fig.canvas.mpl_connect('button_press_event', onclick)"
   ]
  },
  {
   "cell_type": "code",
   "execution_count": null,
   "metadata": {
    "scrolled": false
   },
   "outputs": [],
   "source": [
    "\"\"\"\n",
    " Ordem de seleção:\n",
    "  Os dois últimos (últimos) selecionados são usados para o calculo das médias.\n",
    "  Os dois penúltimos (primeiros) selecionados são usados para representar a média\n",
    "  no grafico.\n",
    "\"\"\"\n",
    "dados_da_media = calculo_da_media(df)\n",
    "\n",
    "indice_ig1 = dados_da_media[0]\n",
    "indice_ig2 = dados_da_media[1]\n",
    "medias = dados_da_media[2]\n",
    "media_final_r = medias['R']\n",
    "media_final_l = medias['L']\n",
    "tempo1_flare = dados_da_media[3]\n",
    "tempo2_flare = dados_da_media[4]"
   ]
  },
  {
   "cell_type": "code",
   "execution_count": null,
   "metadata": {
    "scrolled": false
   },
   "outputs": [],
   "source": [
    "fig_R, axis = plt.subplots()\n",
    "# Usa o mesmo index do dataframe para o eixo x.\n",
    "axis.plot(df[\"R\"][tempo1_flare:tempo2_flare])\n",
    "axis.xaxis.set_major_formatter(DateFormatter('%H:%M'))\n",
    "\n",
    "fig_L, axis = plt.subplots()\n",
    "# Usa o mesmo index do dataframe para o eixo x.\n",
    "axis.plot(df[\"L\"][tempo1_flare:tempo2_flare])\n",
    "axis.xaxis.set_major_formatter(DateFormatter('%H:%M'))"
   ]
  },
  {
   "cell_type": "code",
   "execution_count": null,
   "metadata": {
    "scrolled": false
   },
   "outputs": [],
   "source": [
    "LM_normalizado = df[\"L_normalizado\"][tempo1_flare:tempo2_flare]\n",
    "RM_normalizado = df[\"R_normalizado\"][tempo1_flare:tempo2_flare]\n",
    "\n",
    "RL_V = df[\"R_normalizado\"][tempo1_flare:tempo2_flare] - df[\"L_normalizado\"][tempo1_flare:tempo2_flare]\n",
    "RL_I = df[\"L_normalizado\"][tempo1_flare:tempo2_flare] + df[\"R_normalizado\"][tempo1_flare:tempo2_flare]\n",
    "\n",
    "fig_IV, (axis, ax, ax2) = plt.subplots(3)\n",
    "\n",
    "# Usa o mesmo index do dataframe para o eixo x.\n",
    "axis.plot(LM_normalizado, label=\"L\")\n",
    "axis.plot(RM_normalizado, label=\"R\")\n",
    "axis.set_title(\"Analise 7 GHz\")\n",
    "axis.legend()\n",
    "axis.set_ylabel(\"Flux (SFU)\")\n",
    "axis.yaxis.grid(color='gray')\n",
    "\n",
    "ax.plot(RL_I)\n",
    "ax.set_ylabel(\"I (SFU)\")\n",
    "ax.yaxis.grid(color='gray')\n",
    "\n",
    "ax2.plot(RL_V)\n",
    "ax2.set_ylabel(\"V (SFU)\")\n",
    "ax2.yaxis.grid(color='gray')\n",
    "\n",
    "axis.xaxis.set_major_formatter(DateFormatter('%H:%M'))\n",
    "ax.xaxis.set_major_formatter(DateFormatter('%H:%M'))\n",
    "ax2.xaxis.set_major_formatter(DateFormatter('%H:%M'))\n",
    "pico_7ghz = max(RL_I)\n",
    "\n",
    "# Salva o gráfico.\n",
    "nome_do_arquivo = \"I-V-Flux(SFU)\"\n",
    "if platform.system() == \"Linux\":\n",
    "    fig_IV.savefig(CAMINHO_ABSOLUTO + diretorio + \"/\" + nome_do_arquivo)\n",
    "else:\n",
    "    fig_IV.savefig(CAMINHO_ABSOLUTO + diretorio + \"\\\\\" + nome_do_arquivo)"
   ]
  },
  {
   "cell_type": "markdown",
   "metadata": {},
   "source": [
    "## Pico (só se tiver algum problema no gráfico)"
   ]
  },
  {
   "cell_type": "code",
   "execution_count": null,
   "metadata": {},
   "outputs": [],
   "source": [
    "fig, axis = plt.subplots()\n",
    "\n",
    "# Usa o index do dataframe para o eixo x.\n",
    "axis.plot(df[\"R_normalizado\"])\n",
    "axis.plot(df[\"L_normalizado\"])\n",
    "axis.xaxis.set_major_formatter(DateFormatter('%H:%M'))\n",
    "fig.canvas.mpl_connect('button_press_event', onclick)"
   ]
  },
  {
   "cell_type": "code",
   "execution_count": null,
   "metadata": {},
   "outputs": [],
   "source": [
    "print(posicao[-1])\n",
    "pico_7ghz = num2date(posicao[-1][0])\n",
    "\n",
    "descarte, tempo_inicial = calculo_de_indice(RL_I, pico_7ghz)\n",
    "pico_7ghz = RL_I[tempo_inicial]"
   ]
  },
  {
   "cell_type": "markdown",
   "metadata": {},
   "source": [
    "## RSTN"
   ]
  },
  {
   "cell_type": "code",
   "execution_count": null,
   "metadata": {},
   "outputs": [],
   "source": [
    "rstn = GetRSTN(dia, mes, ano, \"dados_rstn\")\n",
    "rstn.download_file()\n",
    "rstn.decompress_file()\n",
    "rstn_data = rstn.create_dataframe()"
   ]
  },
  {
   "cell_type": "code",
   "execution_count": null,
   "metadata": {},
   "outputs": [],
   "source": [
    "del rstn_data[\"f245\"]\n",
    "del rstn_data[\"f410\"]\n",
    "del rstn_data[\"f610\"]\n",
    "del rstn_data[\"f1415\"]\n",
    "# del rstn_data[\"f2695\"]"
   ]
  },
  {
   "cell_type": "code",
   "execution_count": null,
   "metadata": {},
   "outputs": [],
   "source": [
    "ax = rstn_data.plot()\n",
    "fig = ax.get_figure()\n",
    "fig.canvas.mpl_connect('button_press_event', onclick)"
   ]
  },
  {
   "cell_type": "code",
   "execution_count": null,
   "metadata": {
    "scrolled": false
   },
   "outputs": [],
   "source": [
    "posicao_inicial_rstn = posicao[-2]\n",
    "posicao_final_rstn = posicao[-1]\n",
    "\n",
    "p1 = num2date(posicao_inicial_rstn[0])\n",
    "p2 = num2date(posicao_final_rstn[0])\n",
    "\n",
    "descarte, tempo_inicial = calculo_de_indice(rstn_data, p1)\n",
    "descarte, tempo_final = calculo_de_indice(rstn_data, p2)\n",
    "\n",
    "medias = calculo_da_media(rstn_data, True)\n",
    "\n",
    "fig, axis = plt.subplots()\n",
    "\n",
    "plt.title(\"RSTN Normalizado\")\n",
    "for column in rstn_data.columns:\n",
    "    if len(column) > 11:\n",
    "        axis.plot(rstn_data.index, rstn_data[column], label=column)\n",
    "        \n",
    "\n",
    "axis.xaxis.set_major_formatter(DateFormatter(\"%H:%M\"))\n",
    "plt.legend()"
   ]
  },
  {
   "cell_type": "code",
   "execution_count": null,
   "metadata": {},
   "outputs": [],
   "source": [
    "posicao_inicial_rstn = posicao[-4]\n",
    "posicao_final_rstn = posicao[-3]\n",
    "\n",
    "p1 = num2date(posicao_inicial_rstn[0])\n",
    "p2 = num2date(posicao_final_rstn[0])\n",
    "\n",
    "descarte, tempo_inicial = calculo_de_indice(rstn_data, p1)\n",
    "descarte, tempo_final = calculo_de_indice(rstn_data, p2)"
   ]
  },
  {
   "cell_type": "code",
   "execution_count": null,
   "metadata": {},
   "outputs": [],
   "source": [
    "picos = {\n",
    "    \"2.695\": 0,\n",
    "    \"4.995\": 0,\n",
    "    \"7.0\": pico_7ghz,\n",
    "    \"8.8\": 0,\n",
    "    \"15.4\": 0\n",
    "}\n",
    "\n",
    "fig, axis = plt.subplots()\n",
    "\n",
    "plt.title(\"RSTN Normalizado\")\n",
    "for column in rstn_data.columns:\n",
    "    if len(column) > 11:\n",
    "        column_freq = column[1:5]\n",
    "        if column_freq == \"2695\":\n",
    "            picos[\"2.695\"] = max(rstn_data[column][tempo_inicial:tempo_final])\n",
    "        elif column_freq == \"4995\":\n",
    "            picos[\"4.995\"] = max(rstn_data[column][tempo_inicial:tempo_final])\n",
    "        elif column_freq == \"8800\":\n",
    "            picos[\"8.8\"] = max(rstn_data[column][tempo_inicial:tempo_final])\n",
    "        elif column_freq == \"1540\":\n",
    "            picos[\"15.4\"] = max(rstn_data[column][tempo_inicial:tempo_final])\n",
    "        axis.plot(rstn_data.index[tempo_inicial:tempo_final], rstn_data[column][tempo_inicial:tempo_final], label=column)\n",
    "\n",
    "print(picos)\n",
    "axis.xaxis.set_major_formatter(DateFormatter(\"%H:%M\"))\n",
    "plt.legend()"
   ]
  },
  {
   "cell_type": "code",
   "execution_count": null,
   "metadata": {
    "scrolled": false
   },
   "outputs": [],
   "source": [
    "# Pega o indice do tempo do pico no 7ghz para pegar o\n",
    "# indice no rstn, comparando os horários.\n",
    "\n",
    "for index, item in enumerate(RL_I):\n",
    "    if item == pico_7ghz:\n",
    "        indice_7ghz = index\n",
    "\n",
    "RL_I.index[indice_7ghz]\n",
    "\n",
    "tempo_proximo_rstn = ponto_mais_proximo(RL_I.index, RL_I.index[indice_7ghz])\n",
    "tempo_proximo_rstn = str(tempo_proximo_rstn)[:19]\n",
    "\n",
    "for index, item in enumerate(rstn_data[\"f8800_normalizado\"]):\n",
    "    tempo_rstn = str(rstn_data.index[index])[:19]\n",
    "    if tempo_proximo_rstn == tempo_rstn:\n",
    "        print(RL_I.index[indice_7ghz])\n",
    "        print(rstn_data.index[index])\n",
    "        horario_pico = rstn_data.index[index]\n",
    "        indice_rstn = index\n"
   ]
  },
  {
   "cell_type": "markdown",
   "metadata": {},
   "source": [
    "## Espectro"
   ]
  },
  {
   "cell_type": "code",
   "execution_count": null,
   "metadata": {
    "scrolled": false
   },
   "outputs": [],
   "source": [
    "# Colocar as frequencias em ordem.\n",
    "picos_ordenados = [float(x) for x in picos.keys()]\n",
    "\n",
    "fig_espectro, axis = plt.subplots()\n",
    "\n",
    "for column in picos_ordenados:\n",
    "    axis.plot(column, picos[str(column)], '-o', label=column)\n",
    "\n",
    "axis.set_xlabel(\"Frequência\")\n",
    "axis.set_ylim([0, 150])\n",
    "axis.set_xlim([0.2, 20])\n",
    "axis.yaxis.grid(color='gray')\n",
    "axis.set_title(\"Espectro Rádio\" + str(horario_pico)[10:19])\n",
    "plt.legend()\n",
    "\n",
    "nome_do_arquivo = \"espectro\"\n",
    "if platform.system() == \"Linux\":\n",
    "    caminho = CAMINHO_ABSOLUTO + diretorio + \"/\" + nome_do_arquivo\n",
    "else:\n",
    "    caminho = CAMINHO_ABSOLUTO + diretorio + \"\\\\\" + nome_do_arquivo\n",
    "\n",
    "fig_espectro.savefig(caminho)"
   ]
  },
  {
   "cell_type": "markdown",
   "metadata": {},
   "source": [
    "## GOES"
   ]
  },
  {
   "cell_type": "code",
   "execution_count": null,
   "metadata": {
    "scrolled": false
   },
   "outputs": [],
   "source": [
    "comeco_flare = str(df.index[tempo1_flare])\n",
    "fim_flare = str(df.index[tempo2_flare])\n",
    "\n",
    "comeco_flare = comeco_flare[0:19].replace('-', '/')\n",
    "fim_flare = fim_flare[0:19].replace('-', '/')\n",
    "\n",
    "tr = TimeRange(comeco_flare, fim_flare)\n",
    "\n",
    "results = Fido.search(attrs.Time(tr), attrs.Instrument(\"XRS\"))\n",
    "files = Fido.fetch(results)\n",
    "goes = TimeSeries(files)\n",
    "goes = goes.to_dataframe()\n",
    "comeco, fim = get_correct_goes_index(goes.index, comeco_flare, fim_flare)\n",
    "goes = goes[comeco:fim]"
   ]
  },
  {
   "cell_type": "code",
   "execution_count": null,
   "metadata": {
    "scrolled": false
   },
   "outputs": [],
   "source": [
    "fig, axis = plt.subplots()\n",
    "\n",
    "# Usa o mesmo index do dataframe para o eixo x.\n",
    "axis.semilogy(goes.index, goes[\"xrsa\"], label=r\"0.5--4.0 $\\AA$\", color=\"b\", linewidth=2)\n",
    "axis.semilogy(goes.index, goes[\"xrsb\"], label=r\"1.0--8.0 $\\AA$\", color=\"r\", linewidth=2)\n",
    "axis.xaxis.set_major_formatter(DateFormatter('%H:%M'))\n",
    "axis.set_title(\"GOES Xray Flux\")\n",
    "axis.set_axisbelow(True)\n",
    "axis.yaxis.grid(color='gray')\n",
    "axis.set_ylabel(\"Watts $m^{-2}$\")\n",
    "axis.set_xlabel(ano + \"-\" + mes + \"-\" + dia)\n",
    "axis.set_ylim([1e-9, 1e-2])\n",
    "\n",
    "plt.legend()\n",
    "\n",
    "ax2 = axis.twinx()\n",
    "ax2.set_yscale(\"log\")\n",
    "ax2.set_ylim(1e-9, 1e-2)\n",
    "ax2.set_yticks((1e-9, 1e-8, 1e-7, 1e-6, 1e-5, 1e-4, 1e-3, 1e-2))\n",
    "ax2.set_yticklabels((' ', 'A', 'B', 'C', 'M', 'X', ' '))\n",
    "\n",
    "fig_goes = ax2.get_figure()\n",
    "\n",
    "nome_do_arquivo = \"GOES\"\n",
    "if platform.system() == \"Linux\":\n",
    "    fig_goes.savefig(CAMINHO_ABSOLUTO + diretorio + \"/\" + nome_do_arquivo)\n",
    "else:\n",
    "    fig_goes.savefig(CAMINHO_ABSOLUTO + diretorio + \"\\\\\" + nome_do_arquivo)"
   ]
  },
  {
   "cell_type": "markdown",
   "metadata": {},
   "source": [
    "## Região Ativa"
   ]
  },
  {
   "cell_type": "code",
   "execution_count": null,
   "metadata": {
    "scrolled": false
   },
   "outputs": [],
   "source": [
    "comeco_flare = comeco_flare.replace('/', '-')\n",
    "fim_flare = fim_flare.replace('/', '-')\n",
    "\n",
    "caminho_eventos = \"Eventos/\" + ano + \"_events/\"\n",
    "report = NoaaReport(ano, mes, dia, caminho_eventos)\n",
    "report.get_dataframe()"
   ]
  },
  {
   "cell_type": "code",
   "execution_count": null,
   "metadata": {},
   "outputs": [],
   "source": [
    "ar = \"1035\""
   ]
  },
  {
   "cell_type": "markdown",
   "metadata": {},
   "source": [
    "## Grau de polarização"
   ]
  },
  {
   "cell_type": "code",
   "execution_count": null,
   "metadata": {},
   "outputs": [],
   "source": [
    "fig_7ghz, axis = plt.subplots()\n",
    "\n",
    "# Usa o mesmo index do dataframe para o eixo x.\n",
    "axis.plot(LM_normalizado, label=\"L\")\n",
    "axis.plot(RM_normalizado, label=\"R\")\n",
    "axis.xaxis.set_major_formatter(DateFormatter('%H:%M'))\n",
    "\n",
    "axis.legend()\n",
    "axis.set_ylabel(\"Flux (SFU)\")\n",
    "axis.set_xlabel(\"Horário\")\n",
    "plt.title(\"Evento 7GHz\")\n",
    "\n",
    "fig_7ghz.canvas.mpl_connect('button_press_event', onclick)\n",
    "\n",
    "filename = \"grafico_normalizado\"\n",
    "if platform.system() == \"Linux\":\n",
    "    fig_7ghz.savefig(CAMINHO_ABSOLUTO + diretorio + \"/\" + filename)\n",
    "else:\n",
    "    fig_7ghz.savefig(CAMINHO_ABSOLUTO + diretorio + \"\\\\\" + filename)"
   ]
  },
  {
   "cell_type": "code",
   "execution_count": null,
   "metadata": {},
   "outputs": [],
   "source": [
    "posicao_inicial= num2date(posicao[-1][0])\n",
    "indice_de_y1 = calculo_de_indice(df, posicao_inicial)\n",
    "\n",
    "pico_R = max(df[\"R_normalizado\"][tempo1_flare:tempo2_flare])\n",
    "pico_L = max(df[\"L_normalizado\"][tempo1_flare:tempo2_flare])\n",
    "\n",
    "ponto_do_r_inicial = indice_de_y1[0][2]\n",
    "ponto_do_r_inicial = float(\"{:.3f}\".format(ponto_do_r_inicial))\n",
    "print('Ponto do R inicial:', ponto_do_r_inicial)\n",
    "\n",
    "ponto_do_r_no_pico = float(str(pico_R)[0:7])\n",
    "ponto_do_r_no_pico = float(\"{:.3f}\".format(ponto_do_r_no_pico))\n",
    "print('Ponto do R no pico:', ponto_do_r_no_pico)\n",
    "\n",
    "ponto_do_l_inicial = indice_de_y1[0][3]\n",
    "ponto_do_l_inicial = float(\"{:.3f}\".format(ponto_do_l_inicial))\n",
    "print('Ponto do L incial:', ponto_do_l_inicial)\n",
    "\n",
    "ponto_do_l_no_pico = float(str(pico_L)[0:7])\n",
    "ponto_do_l_no_pico = float(\"{:.3f}\".format(ponto_do_l_no_pico))\n",
    "print('Ponto do L no pico:', ponto_do_l_no_pico)\n",
    "\n",
    "# Procura o horario do pico.\n",
    "for data in enumerate(df[\"R_normalizado\"]):\n",
    "    # Se encontrar o valor do pico, cria a variavel horario_do_pico.\n",
    "    if data[1] == pico_R:\n",
    "        horario_do_pico = df[\"R_normalizado\"].index[data[0]]\n",
    "\n",
    "tempo = str(horario_do_pico)[0:26]\n",
    "print('Tempo:', tempo)"
   ]
  },
  {
   "cell_type": "code",
   "execution_count": null,
   "metadata": {},
   "outputs": [],
   "source": [
    "I = ((ponto_do_r_no_pico - ponto_do_r_inicial) + (ponto_do_l_no_pico - ponto_do_l_inicial))\n",
    "I = float(\"{:.3f}\".format(I))\n",
    "print(\"Cálculo do I:\", I)\n",
    "\n",
    "V = ((ponto_do_r_no_pico - ponto_do_r_inicial) - (ponto_do_l_no_pico - ponto_do_l_inicial))\n",
    "V = float(\"{:.3f}\".format(V))\n",
    "print(\"Cálculo do V:\", V)"
   ]
  },
  {
   "cell_type": "code",
   "execution_count": null,
   "metadata": {},
   "outputs": [],
   "source": [
    "# Grau de polarização.\n",
    "GP = (V / I) * 100\n",
    "GP = float(\"{:.3f}\".format(GP))\n",
    "print('Grau de Polarização:', GP)"
   ]
  },
  {
   "cell_type": "code",
   "execution_count": null,
   "metadata": {
    "scrolled": false
   },
   "outputs": [],
   "source": [
    "# Geração de páginas\n",
    "\n",
    "import matplotlib.gridspec as gridspec\n",
    "\n",
    "ut = \"Universal Time\"\n",
    "\n",
    "plt.rcParams['figure.figsize'] = 10,7\n",
    "\n",
    "fig, axes = plt.subplots(3, 2)\n",
    "\n",
    "if len(dia) == 1:\n",
    "    dia = \"0\" + dia\n",
    "if len(mes) == 1:\n",
    "    mes = \"0\" + mes\n",
    "\n",
    "gs = gridspec.GridSpec(6, 6)\n",
    "gs.update(wspace=1.4, hspace=2)\n",
    "ax1 = plt.subplot(gs[0:2, :3])\n",
    "ax2 = plt.subplot(gs[2:4, :3])\n",
    "ax3 = plt.subplot(gs[4:, :3])\n",
    "ax4 = plt.subplot(gs[0:2, 3:])\n",
    "ax5 = plt.subplot(gs[2::, 3:])\n",
    "\n",
    "ax1.plot(LM_normalizado, label=\"L\")\n",
    "ax1.plot(RM_normalizado, label=\"R\")\n",
    "ax1.set_title(\"Event - 7 GHz - \" + mes + \"/\" + dia + \"/\" + ano[2:])\n",
    "ax1.set_ylabel(\"Flux (SFU)\")\n",
    "ax1.set_xlabel(ut)\n",
    "ax1.xaxis.set_major_formatter(DateFormatter('%H:%M'))\n",
    "ax1.yaxis.grid(color='gray')\n",
    "ax1.legend()\n",
    "\n",
    "# R+L\n",
    "ax2.plot(RL_I)\n",
    "ax2.set_ylabel(\"I [R+L] (SFU)\")\n",
    "ax2.set_xlabel(ut)\n",
    "ax2.yaxis.grid(color='gray')\n",
    "ax2.xaxis.set_major_formatter(DateFormatter('%H:%M'))\n",
    "\n",
    "# R-L\n",
    "ax3.plot(RL_V)\n",
    "ax3.set_ylabel(\"V [R-L] (SFU)\")\n",
    "ax3.set_xlabel(ut)\n",
    "ax3.yaxis.grid(color='gray')\n",
    "ax3.xaxis.set_major_formatter(DateFormatter('%H:%M'))\n",
    "\n",
    "# GOES\n",
    "ax4.semilogy(goes.index, goes[\"xrsa\"], label=r\"0.5--4.0 $\\AA$\", color=\"b\", linewidth=2)\n",
    "ax4.semilogy(goes.index, goes[\"xrsb\"], label=r\"1.0--8.0 $\\AA$\", color=\"r\", linewidth=2)\n",
    "ax4.xaxis.set_major_formatter(DateFormatter('%H:%M'))\n",
    "ax4.set_title(\"GOES Xray Flux\")\n",
    "ax4.set_axisbelow(True)\n",
    "ax4.yaxis.grid(color='gray')\n",
    "ax4.set_ylabel(\"Watts $m^{-2}$\")\n",
    "ax4.set_xlabel(ut)\n",
    "ax4.set_ylim([10**-9, 10**-2])\n",
    "ax4.legend()\n",
    "\n",
    "ax4_2 = ax4.twinx()\n",
    "ax4_2.set_yscale(\"log\")\n",
    "ax4_2.set_ylim(1e-9, 1e-2)\n",
    "ax4_2.set_yticks((1e-9, 1e-8, 1e-7, 1e-6, 1e-5, 1e-4, 1e-3, 1e-2))\n",
    "ax4_2.set_yticklabels((' ', 'A', 'B', 'C', 'M', 'X', ' '))\n",
    "\n",
    "# Espectro rádio\n",
    "for column in picos_ordenados:\n",
    "    ax5.plot(column, picos[str(column)], '-o', label=column)\n",
    "\n",
    "ax5.set_ylabel(\"SFU\")\n",
    "ax5.set_xlabel(\"Frequency (GHz)\")\n",
    "ax5.set_ylim([-10, 120])\n",
    "ax5.set_xlim([0.2, 20])\n",
    "ax5.yaxis.grid(color='gray')\n",
    "ax5.set_title(\"Espectro Rádio -\" + str(horario_pico)[10:19])\n",
    "ax5.legend()\n",
    "\n",
    "filename = \"pagina\"\n",
    "fig.savefig(CAMINHO_ABSOLUTO + diretorio + \"\\\\\" + filename)"
   ]
  },
  {
   "cell_type": "code",
   "execution_count": null,
   "metadata": {},
   "outputs": [],
   "source": [
    "resultados_finais = np.transpose([[tempo], [ponto_do_r_inicial], [ponto_do_l_inicial],\n",
    "                                  [ponto_do_r_no_pico], [ponto_do_l_no_pico], [GP],\n",
    "                                  [I], [V], [str(ar)]])\n",
    "a = pd.DataFrame(resultados_finais, columns = ['Time','PR','PL','PRP','PLP','GP','I','V', 'AR'])\n",
    "\n",
    "if platform.system() == \"Linux\":\n",
    "    a.to_csv(CAMINHO_ABSOLUTO + \"/dados_finais/dados.csv\", header=None, sep=' ', mode='a', index=False)\n",
    "else:\n",
    "    a.to_csv(CAMINHO_ABSOLUTO + \"\\\\dados_finais\\\\dados.csv\", header=None, sep=' ', mode='a', index=False)"
   ]
  }
 ],
 "metadata": {
  "kernelspec": {
   "display_name": "Python 3",
   "language": "python",
   "name": "python3"
  },
  "language_info": {
   "codemirror_mode": {
    "name": "ipython",
    "version": 3
   },
   "file_extension": ".py",
   "mimetype": "text/x-python",
   "name": "python",
   "nbconvert_exporter": "python",
   "pygments_lexer": "ipython3",
   "version": "3.6.5"
  }
 },
 "nbformat": 4,
 "nbformat_minor": 2
}
