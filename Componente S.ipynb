{
 "cells": [
  {
   "cell_type": "code",
   "execution_count": null,
   "metadata": {},
   "outputs": [],
   "source": [
    "%matplotlib nbagg\n",
    "from __future__ import print_function\n",
    "\n",
    "import datetime as dt\n",
    "import platform\n",
    "\n",
    "import matplotlib.pyplot as plt\n",
    "import pandas as pd\n",
    "\n",
    "from matplotlib.dates import DateFormatter, num2date\n",
    "\n",
    "from utils import (\n",
    "    onclick, posicao, calculo_de_indice, load_dados\n",
    ")"
   ]
  },
  {
   "cell_type": "code",
   "execution_count": null,
   "metadata": {},
   "outputs": [],
   "source": [
    "dia = \"07\"\n",
    "mes = \"04\"\n",
    "ano = \"2011\"\n",
    "try:\n",
    "    df, time, diretorio = load_dados(dia, mes, ano)\n",
    "except FileNotFoundError:\n",
    "    print(\"O arquivo não existe\")"
   ]
  },
  {
   "cell_type": "code",
   "execution_count": null,
   "metadata": {
    "scrolled": false
   },
   "outputs": [],
   "source": [
    "plt.rcParams['figure.figsize'] = 7,5\n",
    "fig, axis = plt.subplots()\n",
    "\n",
    "axis.plot(df.index, df)\n",
    "axis.xaxis.set_major_formatter(DateFormatter('%H:%M'))\n",
    "fig.canvas.mpl_connect('button_press_event', onclick)"
   ]
  },
  {
   "cell_type": "code",
   "execution_count": null,
   "metadata": {},
   "outputs": [],
   "source": [
    "load = posicao[-1]\n",
    "ceu = posicao[-2]\n",
    "sol = posicao[-3]\n",
    "\n",
    "load, n = calculo_de_indice(df, num2date(load[0]))\n",
    "loadR, loadL = load[0], load[1]\n",
    "\n",
    "ceu, n = calculo_de_indice(df, num2date(ceu[0]))\n",
    "ceuR, ceuL = ceu[0], ceu[1]\n",
    "\n",
    "sol, n = calculo_de_indice(df, num2date(sol[0]))\n",
    "solR, solL = sol[0], sol[1]"
   ]
  },
  {
   "cell_type": "code",
   "execution_count": null,
   "metadata": {},
   "outputs": [],
   "source": [
    "data = {\n",
    "    \"loadR\": [loadR],\n",
    "    \"loadL\": [loadL],\n",
    "    \"ceuR\": [ceuR],\n",
    "    \"ceuL\": [ceuL],\n",
    "    \"solR\": [solR],\n",
    "    \"solL\": [solL]\n",
    "}\n",
    "\n",
    "index = str(df.index[n])[0:19].replace(\" \", \"_\")\n",
    "index = [index]\n",
    "dados = pd.DataFrame(data, index=index)\n",
    "dados.to_csv(\"Componente S/componente_s.txt\", sep=\" \", header=None, mode=\"a\")"
   ]
  }
 ],
 "metadata": {
  "kernelspec": {
   "display_name": "Python 3",
   "language": "python",
   "name": "python3"
  },
  "language_info": {
   "codemirror_mode": {
    "name": "ipython",
    "version": 3
   },
   "file_extension": ".py",
   "mimetype": "text/x-python",
   "name": "python",
   "nbconvert_exporter": "python",
   "pygments_lexer": "ipython3",
   "version": "3.7.0"
  }
 },
 "nbformat": 4,
 "nbformat_minor": 2
}
