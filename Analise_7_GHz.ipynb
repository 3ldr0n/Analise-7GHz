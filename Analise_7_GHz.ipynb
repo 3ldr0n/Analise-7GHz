{
 "cells": [
  {
   "cell_type": "markdown",
   "metadata": {},
   "source": [
    "# Análise do 7GHz\n",
    "\n",
    "- Gera o gráfico do evento em 2.6, 4.9, 7, 8.8, 15.4GHz\n",
    "- Gera o espectro rádio\n",
    "- Gera a página para o dashboard"
   ]
  },
  {
   "cell_type": "code",
   "execution_count": null,
   "metadata": {},
   "outputs": [],
   "source": [
    "%matplotlib ipympl\n",
    "\n",
    "import datetime as dt\n",
    "import os\n",
    "import platform\n",
    "\n",
    "import matplotlib.pyplot as plt\n",
    "import numpy as np\n",
    "import pandas as pd\n",
    "\n",
    "from matplotlib.dates import num2date, DateFormatter\n",
    "from scipy.io import readsav\n",
    "from sunpy.time import TimeRange\n",
    "from sunpy.timeseries import TimeSeries\n",
    "from sunpy.net import Fido, attrs\n",
    "\n",
    "from rstnpy import RSTN\n",
    "from noaareport import NoaaReport\n",
    "\n",
    "from utils import (\n",
    "    onclick, posicao, calculo_de_indice, load_dados,\n",
    "    remove_background, CAMINHO_ABSOLUTO, get_correct_goes_index\n",
    ")"
   ]
  },
  {
   "cell_type": "code",
   "execution_count": null,
   "metadata": {
    "scrolled": false
   },
   "outputs": [],
   "source": [
    "dia = \"09\"\n",
    "mes = \"04\"\n",
    "ano = \"2002\"\n",
    "df, time, diretorio = load_dados(dia, mes, ano)"
   ]
  },
  {
   "cell_type": "markdown",
   "metadata": {},
   "source": [
    "## Configure o tamanho do gráfico"
   ]
  },
  {
   "cell_type": "code",
   "execution_count": null,
   "metadata": {},
   "outputs": [],
   "source": [
    "plt.rcParams['figure.figsize'] = 7,5"
   ]
  },
  {
   "cell_type": "markdown",
   "metadata": {},
   "source": [
    "## Ordem de seleção dos pontos para remover o background:\n",
    "\n",
    "- Os dois primeiros pontos são usados para selecionar o evento\n",
    "- Os dois últimos pontos são usados para remover o background"
   ]
  },
  {
   "cell_type": "code",
   "execution_count": null,
   "metadata": {
    "scrolled": false
   },
   "outputs": [],
   "source": [
    "fig_dia_7ghz, axis = plt.subplots()\n",
    "\n",
    "axis.plot(df)\n",
    "axis.xaxis.set_major_formatter(DateFormatter('%H:%M'))\n",
    "\n",
    "fig_dia_7ghz.canvas.mpl_connect('button_press_event', onclick)"
   ]
  },
  {
   "cell_type": "code",
   "execution_count": null,
   "metadata": {
    "scrolled": false
   },
   "outputs": [],
   "source": [
    "dados_da_media = remove_background(df)\n",
    "\n",
    "indice_ig1 = dados_da_media[\"indice_inicio_evento\"]\n",
    "indice_ig2 = dados_da_media[\"indice_fim_evento\"]\n",
    "media_final_r = dados_da_media[\"medias\"][\"R\"]\n",
    "media_final_l = dados_da_media[\"medias\"][\"L\"]\n",
    "inicio_flare = dados_da_media[\"inicio_flare\"]\n",
    "fim_flare = dados_da_media[\"fim_flare\"]"
   ]
  },
  {
   "cell_type": "code",
   "execution_count": null,
   "metadata": {
    "scrolled": false
   },
   "outputs": [],
   "source": [
    "fig_R, axis = plt.subplots()\n",
    "# Usa o mesmo index do dataframe para o eixo x.\n",
    "axis.plot(df[\"R\"][inicio_flare:fim_flare])\n",
    "axis.xaxis.set_major_formatter(DateFormatter('%H:%M'))\n",
    "\n",
    "fig_L, axis = plt.subplots()\n",
    "# Usa o mesmo index do dataframe para o eixo x.\n",
    "axis.plot(df[\"L\"][inicio_flare:fim_flare])\n",
    "axis.xaxis.set_major_formatter(DateFormatter('%H:%M'))"
   ]
  },
  {
   "cell_type": "markdown",
   "metadata": {},
   "source": [
    "## Gráfico do Evento, I e V"
   ]
  },
  {
   "cell_type": "code",
   "execution_count": null,
   "metadata": {
    "scrolled": false
   },
   "outputs": [],
   "source": [
    "LM_normalizado = df[\"L_normalizado\"][inicio_flare:fim_flare]\n",
    "RM_normalizado = df[\"R_normalizado\"][inicio_flare:fim_flare]\n",
    "\n",
    "RL_V = df[\"R_normalizado\"][inicio_flare:fim_flare] - df[\"L_normalizado\"][inicio_flare:fim_flare]\n",
    "RL_I = df[\"L_normalizado\"][inicio_flare:fim_flare] + df[\"R_normalizado\"][inicio_flare:fim_flare]\n",
    "\n",
    "fig_IV, (axis_top, axis_mid, axis_bottom) = plt.subplots(3)\n",
    "\n",
    "# Usa o mesmo index do dataframe para o eixo x.\n",
    "axis_top.plot(LM_normalizado, label=\"L\")\n",
    "axis_top.plot(RM_normalizado, label=\"R\")\n",
    "axis_top.set_title(\"Analise 7 GHz\")\n",
    "axis_top.legend()\n",
    "axis_top.set_ylabel(\"Flux (SFU)\")\n",
    "axis_top.yaxis.grid(color='gray')\n",
    "\n",
    "axis_mid.plot(RL_I)\n",
    "axis_mid.set_ylabel(\"I (SFU)\")\n",
    "axis_mid.yaxis.grid(color='gray')\n",
    "\n",
    "axis_bottom.plot(RL_V)\n",
    "axis_bottom.set_ylabel(\"V (SFU)\")\n",
    "axis_bottom.yaxis.grid(color='gray')\n",
    "\n",
    "axis_top.xaxis.set_major_formatter(DateFormatter('%H:%M'))\n",
    "axis_mid.xaxis.set_major_formatter(DateFormatter('%H:%M'))\n",
    "\n",
    "axis_bottom.xaxis.set_major_formatter(DateFormatter('%H:%M'))\n",
    "pico_7ghz = max(RL_I)"
   ]
  },
  {
   "cell_type": "markdown",
   "metadata": {},
   "source": [
    "## Salva o gráfico"
   ]
  },
  {
   "cell_type": "code",
   "execution_count": null,
   "metadata": {},
   "outputs": [],
   "source": [
    "nome_do_arquivo = \"I-V-Flux(SFU)\"\n",
    "fig_IV.savefig(CAMINHO_ABSOLUTO.joinpath(diretorio).joinpath(nome_do_arquivo))"
   ]
  },
  {
   "cell_type": "markdown",
   "metadata": {},
   "source": [
    "## Pico 7GHz"
   ]
  },
  {
   "cell_type": "code",
   "execution_count": null,
   "metadata": {
    "scrolled": false
   },
   "outputs": [],
   "source": [
    "fig_pico_7ghz, axis = plt.subplots()\n",
    "\n",
    "# Usa o index do dataframe para o eixo x.\n",
    "axis.plot(RM_normalizado, label=\"R\")\n",
    "axis.plot(LM_normalizado, label=\"L\")\n",
    "\n",
    "axis.xaxis.set_major_formatter(DateFormatter('%H:%M'))\n",
    "\n",
    "fig_pico_7ghz.canvas.mpl_connect('button_press_event', onclick)\n",
    "plt.legend()"
   ]
  },
  {
   "cell_type": "code",
   "execution_count": null,
   "metadata": {},
   "outputs": [],
   "source": [
    "print(posicao[-1])\n",
    "posicao_pico_7ghz = posicao[-1]\n",
    "horario_pico_7ghz = num2date(posicao_pico_7ghz[0])\n",
    "print(\"Pico:\", horario_pico_7ghz)\n",
    "\n",
    "descarte, tempo_inicial = calculo_de_indice(RL_I, horario_pico_7ghz)\n",
    "pico_7ghz = RL_I[tempo_inicial]\n",
    "\n",
    "descarte, tempo_inicial = calculo_de_indice(RM_normalizado, horario_pico_7ghz)\n",
    "pico_r_7ghz = RM_normalizado[tempo_inicial]\n",
    "\n",
    "descarte, tempo_inicial = calculo_de_indice(LM_normalizado, horario_pico_7ghz)\n",
    "pico_l_7ghz = LM_normalizado[tempo_inicial]"
   ]
  },
  {
   "cell_type": "markdown",
   "metadata": {},
   "source": [
    "## RSTN"
   ]
  },
  {
   "cell_type": "markdown",
   "metadata": {},
   "source": [
    "### Pega os dados do RSTN do dia"
   ]
  },
  {
   "cell_type": "code",
   "execution_count": null,
   "metadata": {},
   "outputs": [],
   "source": [
    "rstn_station = \"Sagamore Hill\"\n",
    "rstn = RSTN(ano, mes, dia, \"dados_rstn\", rstn_station)\n",
    "filename = rstn.downloader.download_file()\n",
    "rstn.decompress_file(filename)\n",
    "rstn_data = rstn.create_dataframe()"
   ]
  },
  {
   "cell_type": "markdown",
   "metadata": {},
   "source": [
    "### Descarta as frequências que não serão usadas"
   ]
  },
  {
   "cell_type": "code",
   "execution_count": null,
   "metadata": {},
   "outputs": [],
   "source": [
    "del rstn_data[\"245\"]\n",
    "del rstn_data[\"410\"]\n",
    "del rstn_data[\"610\"]\n",
    "del rstn_data[\"1415\"]"
   ]
  },
  {
   "cell_type": "markdown",
   "metadata": {},
   "source": [
    "## Ordem de seleção dos pontos para remover o background:\n",
    "\n",
    "- Os dois primeiros pontos são usados para selecionar o evento\n",
    "- Os dois últimos pontos são usados para remover o background"
   ]
  },
  {
   "cell_type": "code",
   "execution_count": null,
   "metadata": {},
   "outputs": [],
   "source": [
    "ax = rstn_data.plot()\n",
    "fig_rstn = ax.get_figure()\n",
    "fig_rstn.canvas.mpl_connect('button_press_event', onclick)"
   ]
  },
  {
   "cell_type": "markdown",
   "metadata": {},
   "source": [
    "### Remove background"
   ]
  },
  {
   "cell_type": "code",
   "execution_count": null,
   "metadata": {
    "scrolled": false
   },
   "outputs": [],
   "source": [
    "posicao_inicial_rstn = posicao[-2]\n",
    "posicao_final_rstn = posicao[-1]\n",
    "\n",
    "p1 = num2date(posicao_inicial_rstn[0])\n",
    "p2 = num2date(posicao_final_rstn[0])\n",
    "\n",
    "descarte, tempo_inicial = calculo_de_indice(rstn_data, p1)\n",
    "descarte, tempo_final = calculo_de_indice(rstn_data, p2)\n",
    "\n",
    "medias = remove_background(rstn_data, True)\n",
    "\n",
    "fig_rstn, axis = plt.subplots()\n",
    "\n",
    "plt.title(\"RSTN Normalizado\")\n",
    "for column in rstn_data.columns:\n",
    "    if len(column) > 11:\n",
    "        axis.plot(rstn_data.index, rstn_data[column], label=column)\n",
    "\n",
    "axis.xaxis.set_major_formatter(DateFormatter(\"%H:%M\"))\n",
    "plt.legend()"
   ]
  },
  {
   "cell_type": "markdown",
   "metadata": {},
   "source": [
    "### Corta o gráfico somente na parte do evento"
   ]
  },
  {
   "cell_type": "code",
   "execution_count": null,
   "metadata": {},
   "outputs": [],
   "source": [
    "posicao_inicial_rstn = posicao[-4]\n",
    "posicao_final_rstn = posicao[-3]\n",
    "\n",
    "posicao_inicial = num2date(posicao_inicial_rstn[0])\n",
    "posicao_final = num2date(posicao_final_rstn[0])\n",
    "\n",
    "descarte, tempo_inicial = calculo_de_indice(rstn_data, posicao_inicial)\n",
    "descarte, tempo_final = calculo_de_indice(rstn_data, posicao_final)"
   ]
  },
  {
   "cell_type": "markdown",
   "metadata": {},
   "source": [
    "### Pega os valores do pico nas frequências do RSTN\n",
    "\n",
    "É importante pegar somente a parte do evento na célula anterior pra que o pico possa ser pego da forma correta."
   ]
  },
  {
   "cell_type": "code",
   "execution_count": null,
   "metadata": {
    "scrolled": false
   },
   "outputs": [],
   "source": [
    "picos = {\n",
    "    \"2.695\": 0,\n",
    "    \"4.995\": 0,\n",
    "    \"7.0\": pico_7ghz,\n",
    "    \"8.8\": 0,\n",
    "    \"15.4\": 0\n",
    "}\n",
    "\n",
    "fig_rstn_normalizado, axis = plt.subplots()\n",
    "\n",
    "axis.set_title(\"RSTN Normalizado\")\n",
    "for column in rstn_data.columns:\n",
    "    if len(column) < 11:\n",
    "        continue\n",
    "        \n",
    "    if \"2695\" in column:\n",
    "        picos[\"2.695\"] = max(rstn_data[column][tempo_inicial:tempo_final])\n",
    "    elif \"4995\" in column:\n",
    "        picos[\"4.995\"] = max(rstn_data[column][tempo_inicial:tempo_final])\n",
    "    elif \"8800\" in column:\n",
    "        picos[\"8.8\"] = max(rstn_data[column][tempo_inicial:tempo_final])\n",
    "    elif \"15400\" in column:\n",
    "        picos[\"15.4\"] = max(rstn_data[column][tempo_inicial:tempo_final])\n",
    "        \n",
    "    axis.plot(rstn_data.index[tempo_inicial:tempo_final],\n",
    "              rstn_data[column][tempo_inicial:tempo_final],\n",
    "              label=column)\n",
    "\n",
    "print(picos)\n",
    "axis.xaxis.set_major_formatter(DateFormatter(\"%H:%M\"))\n",
    "plt.legend()"
   ]
  },
  {
   "cell_type": "code",
   "execution_count": null,
   "metadata": {},
   "outputs": [],
   "source": [
    "horario_do_pico = str(horario_pico_7ghz)[10:16]"
   ]
  },
  {
   "cell_type": "markdown",
   "metadata": {},
   "source": [
    "## Espectro rádio"
   ]
  },
  {
   "cell_type": "code",
   "execution_count": null,
   "metadata": {
    "scrolled": false
   },
   "outputs": [],
   "source": [
    "# Colocar as frequencias em ordem.\n",
    "picos_ordenados = [float(x) for x in picos.keys()]\n",
    "\n",
    "fig_espectro, axis = plt.subplots()\n",
    "\n",
    "for column in picos_ordenados:\n",
    "    axis.plot(column, picos[str(column)], '-o', label=column)\n",
    "\n",
    "axis.set_xlabel(\"Frequência\")\n",
    "axis.set_ylim([0, 500])\n",
    "axis.set_xlim([0.2, 20])\n",
    "axis.yaxis.grid(color='gray')\n",
    "axis.set_title(\"Espectro Rádio\" + horario_do_pico)\n",
    "plt.legend()"
   ]
  },
  {
   "cell_type": "markdown",
   "metadata": {},
   "source": [
    "## Salva o gráfico"
   ]
  },
  {
   "cell_type": "code",
   "execution_count": null,
   "metadata": {},
   "outputs": [],
   "source": [
    "nome_do_arquivo = \"espectro\"\n",
    "fig_espectro.savefig(CAMINHO_ABSOLUTO.joinpath(diretorio).joinpath(nome_do_arquivo))"
   ]
  },
  {
   "cell_type": "markdown",
   "metadata": {},
   "source": [
    "## GOES"
   ]
  },
  {
   "cell_type": "code",
   "execution_count": null,
   "metadata": {
    "scrolled": false
   },
   "outputs": [],
   "source": [
    "comeco_flare = str(df.index[inicio_flare])\n",
    "fim_flare = str(df.index[fim_flare])\n",
    "\n",
    "comeco_flare = comeco_flare[0:19].replace('-', '/')\n",
    "fim_flare = fim_flare[0:19].replace('-', '/')\n",
    "\n",
    "tr = TimeRange(comeco_flare, fim_flare)\n",
    "\n",
    "results = Fido.search(attrs.Time(tr), attrs.Instrument(\"XRS\"))\n",
    "files = Fido.fetch(results)\n",
    "goes = TimeSeries(files)\n",
    "goes = goes.to_dataframe()\n",
    "comeco, fim = get_correct_goes_index(goes.index, comeco_flare, fim_flare)\n",
    "goes = goes[comeco:fim]"
   ]
  },
  {
   "cell_type": "code",
   "execution_count": null,
   "metadata": {
    "scrolled": false
   },
   "outputs": [],
   "source": [
    "fig, axis = plt.subplots()\n",
    "\n",
    "# Usa o mesmo index do dataframe para o eixo x.\n",
    "axis.semilogy(goes.index, goes[\"xrsa\"], label=r\"0.5--4.0 $\\AA$\", color=\"b\", linewidth=2)\n",
    "axis.semilogy(goes.index, goes[\"xrsb\"], label=r\"1.0--8.0 $\\AA$\", color=\"r\", linewidth=2)\n",
    "axis.xaxis.set_major_formatter(DateFormatter('%H:%M'))\n",
    "axis.set_title(\"GOES Xray Flux\")\n",
    "axis.set_axisbelow(True)\n",
    "axis.yaxis.grid(color='gray')\n",
    "axis.set_ylabel(\"Watts $m^{-2}$\")\n",
    "axis.set_xlabel(ano + \"-\" + mes + \"-\" + dia)\n",
    "axis.set_ylim([1e-9, 1e-2])\n",
    "\n",
    "plt.legend()\n",
    "\n",
    "ax2 = axis.twinx()\n",
    "ax2.set_yscale(\"log\")\n",
    "ax2.set_ylim(1e-9, 1e-2)\n",
    "ax2.set_yticks((1e-9, 1e-8, 1e-7, 1e-6, 1e-5, 1e-4, 1e-3, 1e-2))\n",
    "ax2.set_yticklabels((' ', 'A', 'B', 'C', 'M', 'X', ' '))\n",
    "\n",
    "fig_goes = ax2.get_figure()"
   ]
  },
  {
   "cell_type": "markdown",
   "metadata": {},
   "source": [
    "## Salva o gráfico"
   ]
  },
  {
   "cell_type": "code",
   "execution_count": null,
   "metadata": {},
   "outputs": [],
   "source": [
    "nome_do_arquivo = \"GOES\"\n",
    "fig_goes.savefig(CAMINHO_ABSOLUTO.joinpath(diretorio).joinpath(nome_do_arquivo))"
   ]
  },
  {
   "cell_type": "markdown",
   "metadata": {},
   "source": [
    "## Região Ativa"
   ]
  },
  {
   "cell_type": "code",
   "execution_count": null,
   "metadata": {
    "scrolled": false
   },
   "outputs": [],
   "source": [
    "comeco_flare = comeco_flare.replace('/', '-')\n",
    "fim_flare = fim_flare.replace('/', '-')\n",
    "\n",
    "caminho_eventos = \"Eventos/\" + ano + \"_events/\"\n",
    "report = NoaaReport(ano, mes, dia, caminho_eventos)\n",
    "with pd.option_context('display.max_rows', None, 'display.max_columns', None):\n",
    "    print(report.get_dataframe())"
   ]
  },
  {
   "cell_type": "code",
   "execution_count": null,
   "metadata": {},
   "outputs": [],
   "source": [
    "ar = \"None\""
   ]
  },
  {
   "cell_type": "markdown",
   "metadata": {},
   "source": [
    "## Grau de polarização"
   ]
  },
  {
   "cell_type": "code",
   "execution_count": null,
   "metadata": {},
   "outputs": [],
   "source": [
    "fig_7ghz, axis = plt.subplots()\n",
    "\n",
    "# Usa o mesmo index do dataframe para o eixo x.\n",
    "axis.plot(LM_normalizado, label=\"L\")\n",
    "axis.plot(RM_normalizado, label=\"R\")\n",
    "axis.xaxis.set_major_formatter(DateFormatter('%H:%M'))\n",
    "\n",
    "axis.legend()\n",
    "axis.set_ylabel(\"Flux (SFU)\")\n",
    "axis.set_xlabel(\"Horário\")\n",
    "plt.title(\"Evento 7GHz\")\n",
    "\n",
    "fig_7ghz.canvas.mpl_connect('button_press_event', onclick)"
   ]
  },
  {
   "cell_type": "markdown",
   "metadata": {},
   "source": [
    "## Salva o gráfico"
   ]
  },
  {
   "cell_type": "code",
   "execution_count": null,
   "metadata": {},
   "outputs": [],
   "source": [
    "nome_do_arquivo = \"grafico_normalizado\"\n",
    "fig_7ghz.savefig(CAMINHO_ABSOLUTO.joinpath(diretorio).joinpath(nome_do_arquivo))"
   ]
  },
  {
   "cell_type": "code",
   "execution_count": null,
   "metadata": {},
   "outputs": [],
   "source": [
    "posicao_inicial= num2date(posicao[-1][0])\n",
    "indice_de_y1 = calculo_de_indice(df, posicao_inicial)\n",
    "\n",
    "pico_R = pico_r_7ghz\n",
    "pico_L = pico_l_7ghz\n",
    "\n",
    "ponto_do_r_inicial = indice_de_y1[0][2]\n",
    "ponto_do_r_inicial = float(\"{:.3f}\".format(ponto_do_r_inicial))\n",
    "print('Ponto do R inicial:', ponto_do_r_inicial)\n",
    "\n",
    "ponto_do_r_no_pico = float(str(pico_R)[0:7])\n",
    "ponto_do_r_no_pico = float(\"{:.3f}\".format(ponto_do_r_no_pico))\n",
    "print('Ponto do R no pico:', ponto_do_r_no_pico)\n",
    "\n",
    "ponto_do_l_inicial = indice_de_y1[0][3]\n",
    "ponto_do_l_inicial = float(\"{:.3f}\".format(ponto_do_l_inicial))\n",
    "print('Ponto do L incial:', ponto_do_l_inicial)\n",
    "\n",
    "ponto_do_l_no_pico = float(str(pico_L)[0:7])\n",
    "ponto_do_l_no_pico = float(\"{:.3f}\".format(ponto_do_l_no_pico))\n",
    "print('Ponto do L no pico:', ponto_do_l_no_pico)\n",
    "\n",
    "horario_do_pico = num2date(posicao_pico_7ghz[0])\n",
    "tempo = str(horario_do_pico)[0:26]\n",
    "print('Tempo:', tempo)"
   ]
  },
  {
   "cell_type": "markdown",
   "metadata": {},
   "source": [
    "### Cálculo do I e V"
   ]
  },
  {
   "cell_type": "code",
   "execution_count": null,
   "metadata": {},
   "outputs": [],
   "source": [
    "I = ((ponto_do_r_no_pico - ponto_do_r_inicial) + (ponto_do_l_no_pico - ponto_do_l_inicial))\n",
    "\n",
    "I = float(\"{:.3f}\".format(I))\n",
    "print(\"Cálculo do I:\", I)\n",
    "\n",
    "V = ((ponto_do_r_no_pico - ponto_do_r_inicial) - (ponto_do_l_no_pico - ponto_do_l_inicial))\n",
    "V = float(\"{:.3f}\".format(V))\n",
    "print(\"Cálculo do V:\", V)"
   ]
  },
  {
   "cell_type": "markdown",
   "metadata": {},
   "source": [
    "### Grau de polarização."
   ]
  },
  {
   "cell_type": "code",
   "execution_count": null,
   "metadata": {},
   "outputs": [],
   "source": [
    "GP = (V / I) * 100\n",
    "GP = float(\"{:.3f}\".format(GP))\n",
    "print('Grau de Polarização:', GP)"
   ]
  },
  {
   "cell_type": "markdown",
   "metadata": {},
   "source": [
    "## Geração de página"
   ]
  },
  {
   "cell_type": "code",
   "execution_count": null,
   "metadata": {},
   "outputs": [],
   "source": [
    "import matplotlib\n",
    "from matplotlib import gridspec\n",
    "\n",
    "font = {'family' : 'DejaVu Sans',\n",
    "        'weight' : 'normal',\n",
    "        'size'   : 8}\n",
    "\n",
    "matplotlib.rc('font', **font)\n",
    "\n",
    "ut = \"Universal Time\"\n",
    "\n",
    "plt.rcParams['figure.figsize'] = 10,7\n",
    "\n",
    "fig_pagina, axes = plt.subplots(3, 3)\n",
    "\n",
    "if len(dia) == 1:\n",
    "    dia = \"0\" + dia\n",
    "if len(mes) == 1:\n",
    "    mes = \"0\" + mes\n",
    "\n",
    "gs = gridspec.GridSpec(6, 6, figure=fig_final)\n",
    "gs.update(wspace=1.4, hspace=2)\n",
    "\n",
    "fig_pagina.suptitle(\"Event {:%B %d, %Y}\".format(horario_do_pico), fontsize=14)\n",
    "\n",
    "ax1 = plt.subplot(gs[0:2, :3])\n",
    "ax2 = plt.subplot(gs[2:4, :3])\n",
    "ax3 = plt.subplot(gs[4:, :3])\n",
    "ax4 = plt.subplot(gs[0:2, 3:])\n",
    "ax5 = plt.subplot(gs[2:4, 3:])\n",
    "ax6 = plt.subplot(gs[4:, 3:])"
   ]
  },
  {
   "cell_type": "markdown",
   "metadata": {},
   "source": [
    "## Evento 7GHz"
   ]
  },
  {
   "cell_type": "code",
   "execution_count": null,
   "metadata": {},
   "outputs": [],
   "source": [
    "ax1.plot(LM_normalizado, label=\"L\")\n",
    "ax1.plot(RM_normalizado, label=\"R\")\n",
    "ax1.set_title(\"Event - 7 GHz - {}/{}/{}\".format(mes, dia, ano[2:]))\n",
    "ax1.set_ylabel(\"Flux (SFU)\")\n",
    "ax1.set_xlabel(ut)\n",
    "ax1.xaxis.set_major_formatter(DateFormatter('%H:%M'))\n",
    "ax1.yaxis.grid(color='gray')\n",
    "ax1.legend()"
   ]
  },
  {
   "cell_type": "markdown",
   "metadata": {},
   "source": [
    "## R + L (I)"
   ]
  },
  {
   "cell_type": "code",
   "execution_count": null,
   "metadata": {},
   "outputs": [],
   "source": [
    "ax2.plot(RL_I)\n",
    "ax2.set_ylabel(\"I [R+L] (SFU)\")\n",
    "ax2.set_xlabel(ut)\n",
    "ax2.yaxis.grid(color='gray')\n",
    "ax2.xaxis.set_major_formatter(DateFormatter('%H:%M'))"
   ]
  },
  {
   "cell_type": "markdown",
   "metadata": {},
   "source": [
    "## R - L (V)"
   ]
  },
  {
   "cell_type": "code",
   "execution_count": null,
   "metadata": {},
   "outputs": [],
   "source": [
    "ax3.plot(RL_V)\n",
    "ax3.set_ylabel(\"V [R-L] (SFU)\")\n",
    "ax3.set_xlabel(ut)\n",
    "ax3.yaxis.grid(color='gray')\n",
    "ax3.xaxis.set_major_formatter(DateFormatter('%H:%M'))"
   ]
  },
  {
   "cell_type": "markdown",
   "metadata": {},
   "source": [
    "## Evento em Raios x"
   ]
  },
  {
   "cell_type": "code",
   "execution_count": null,
   "metadata": {},
   "outputs": [],
   "source": [
    "ax4.semilogy(goes.index, goes[\"xrsa\"], label=r\"0.5--4.0 $\\AA$\", color=\"b\", linewidth=2)\n",
    "ax4.semilogy(goes.index, goes[\"xrsb\"], label=r\"1.0--8.0 $\\AA$\", color=\"r\", linewidth=2)\n",
    "ax4.xaxis.set_major_formatter(DateFormatter('%H:%M'))\n",
    "ax4.set_title(\"GOES Xray Flux\")\n",
    "ax4.set_axisbelow(True)\n",
    "ax4.yaxis.grid(color='gray')\n",
    "ax4.set_ylabel(\"Watts $m^{-2}$\")\n",
    "ax4.set_xlabel(ut)\n",
    "ax4.set_ylim([10**-9, 10**-2])\n",
    "ax4.legend()\n",
    "\n",
    "ax4_2 = ax4.twinx()\n",
    "ax4_2.set_yscale(\"log\")\n",
    "ax4_2.set_ylim(1e-9, 1e-2)\n",
    "ax4_2.set_yticks((1e-9, 1e-8, 1e-7, 1e-6, 1e-5, 1e-4, 1e-3, 1e-2))\n",
    "ax4_2.set_yticklabels((' ', 'A', 'B', 'C', 'M', 'X', ' '))"
   ]
  },
  {
   "cell_type": "markdown",
   "metadata": {},
   "source": [
    "## Espectro rádio"
   ]
  },
  {
   "cell_type": "code",
   "execution_count": null,
   "metadata": {},
   "outputs": [],
   "source": [
    "for column in picos_ordenados:\n",
    "    ax5.plot(column, picos[str(column)], '-o', label=column)\n",
    "\n",
    "ax5.set_ylabel(\"SFU\")\n",
    "ax5.set_xlabel(\"Frequency (GHz)\")\n",
    "ax5.set_ylim([0, 500])\n",
    "ax5.set_xlim([0.2, 20])\n",
    "ax5.yaxis.grid(color='gray')\n",
    "ax5.set_title(\"Espectro Rádio - {:%H:%M}\".format(horario_do_pico))\n",
    "ax5.legend()"
   ]
  },
  {
   "cell_type": "markdown",
   "metadata": {},
   "source": [
    "## Evento RSTN"
   ]
  },
  {
   "cell_type": "code",
   "execution_count": null,
   "metadata": {
    "scrolled": false
   },
   "outputs": [],
   "source": [
    "ax6.set_title(\"RSTN - \" + rstn_station)\n",
    "for column in rstn_data.columns:\n",
    "    if len(column) < 11:\n",
    "        continue\n",
    "        \n",
    "    if \"2695\" in column:\n",
    "        ax6.plot(rstn_data.index[tempo_inicial:tempo_final],\n",
    "                rstn_data[column][tempo_inicial:tempo_final],\n",
    "                label=\"2.695\")\n",
    "    elif \"4995\" in column:\n",
    "        ax6.plot(rstn_data.index[tempo_inicial:tempo_final],\n",
    "                 rstn_data[column][tempo_inicial:tempo_final],\n",
    "                 label=\"4.995\")\n",
    "    elif \"8800\" in column:\n",
    "        ax6.plot(rstn_data.index[tempo_inicial:tempo_final],\n",
    "                 rstn_data[column][tempo_inicial:tempo_final],\n",
    "                 label=\"8.8\")\n",
    "    elif \"15400\" in column:\n",
    "        ax6.plot(rstn_data.index[tempo_inicial:tempo_final],\n",
    "                 rstn_data[column][tempo_inicial:tempo_final],\n",
    "                 label=\"15.4\")\n",
    "\n",
    "ax6.xaxis.set_major_formatter(DateFormatter(\"%H:%M\"))\n",
    "ax6.legend()"
   ]
  },
  {
   "cell_type": "markdown",
   "metadata": {},
   "source": [
    "## Salva o gráfico"
   ]
  },
  {
   "cell_type": "code",
   "execution_count": null,
   "metadata": {},
   "outputs": [],
   "source": [
    "nome_do_arquivo = \"pagina\"\n",
    "fig_pagina.savefig(CAMINHO_ABSOLUTO.joinpath(diretorio).joinpath(nome_do_arquivo))"
   ]
  },
  {
   "cell_type": "code",
   "execution_count": null,
   "metadata": {},
   "outputs": [],
   "source": [
    "resultados_finais = np.transpose([[tempo], [ponto_do_r_inicial], [ponto_do_l_inicial],\n",
    "                                  [ponto_do_r_no_pico], [ponto_do_l_no_pico], [GP],\n",
    "                                  [I], [V], [str(ar)]])\n",
    "\n",
    "dados_finais = pd.DataFrame(resultados_finais, columns = ['Time','PR','PL','PRP','PLP','GP','I','V', 'AR'])\n",
    "\n",
    "nome_do_arquivo = CAMINHO_ABSOLUTO.joinpath(\"dados_finais/dados.csv\")\n",
    "\n",
    "dados_finais.to_csv(nome_do_arquivo, header=None, mode='a', index=False)"
   ]
  }
 ],
 "metadata": {
  "kernelspec": {
   "display_name": "Python 3",
   "language": "python",
   "name": "python3"
  },
  "language_info": {
   "codemirror_mode": {
    "name": "ipython",
    "version": 3
   },
   "file_extension": ".py",
   "mimetype": "text/x-python",
   "name": "python",
   "nbconvert_exporter": "python",
   "pygments_lexer": "ipython3",
   "version": "3.6.7"
  }
 },
 "nbformat": 4,
 "nbformat_minor": 2
}
