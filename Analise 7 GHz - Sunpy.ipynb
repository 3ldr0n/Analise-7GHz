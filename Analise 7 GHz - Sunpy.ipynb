{
 "cells": [
  {
   "cell_type": "code",
   "execution_count": null,
   "metadata": {},
   "outputs": [],
   "source": [
    "%matplotlib nbagg\n",
    "import datetime as dt\n",
    "\n",
    "# Imports \"genéricos\" com 'as'.\n",
    "import matplotlib.pyplot as plt\n",
    "import numpy as np\n",
    "import pandas as pd\n",
    "\n",
    "# Imports específicos.\n",
    "from matplotlib.dates import num2date, DateFormatter\n",
    "from scipy.io import readsav\n",
    "from sunpy.net import hek\n",
    "from sunpy.lightcurve import GOESLightCurve\n",
    "from sunpy.time import TimeRange\n",
    "\n",
    "from utils import (\n",
    "    onclick, posicao, calculo_de_indice,\n",
    "    load_dados, calculo_da_media, dia_mes_ano_filename,\n",
    "    ponto_mais_proximo, CAMINHO_ABSOLUTO\n",
    ")"
   ]
  },
  {
   "cell_type": "code",
   "execution_count": null,
   "metadata": {
    "scrolled": true
   },
   "outputs": [],
   "source": [
    "filename = '04090209'\n",
    "df, time, diretorio = load_dados('2002', filename)"
   ]
  },
  {
   "cell_type": "code",
   "execution_count": null,
   "metadata": {
    "scrolled": false
   },
   "outputs": [],
   "source": [
    "# Faz as médias\n",
    "plt.rcParams['figure.figsize'] = 7,5\n",
    "fig1, axis = plt.subplots()\n",
    "\n",
    "# Usa o mesmo index do dataframe para o eixo x.\n",
    "axis.plot(df.index, df)\n",
    "axis.xaxis.set_major_formatter(DateFormatter('%H:%M'))\n",
    "fig1.canvas.mpl_connect('button_press_event', onclick)"
   ]
  },
  {
   "cell_type": "code",
   "execution_count": null,
   "metadata": {
    "scrolled": false
   },
   "outputs": [],
   "source": [
    "\"\"\"\n",
    " Ordem de seleção:\n",
    "  Os dois últimos selecionados são usados para o calculo das médias.\n",
    "  Os dois penúltimos selecionados são usados para representar a média\n",
    "  no grafico.\n",
    "\"\"\"\n",
    "dados_da_media = calculo_da_media(df)\n",
    "\n",
    "indice_ig1 = dados_da_media[0]\n",
    "indice_ig2 = dados_da_media[1]\n",
    "media_final_r = dados_da_media[2]\n",
    "media_final_l = dados_da_media[3]\n",
    "tempo1_flare = dados_da_media[4]\n",
    "tempo2_flare = dados_da_media[5]"
   ]
  },
  {
   "cell_type": "code",
   "execution_count": null,
   "metadata": {
    "scrolled": false
   },
   "outputs": [],
   "source": [
    "fig1, axis = plt.subplots()\n",
    "# Usa o mesmo index do dataframe para o eixo x.\n",
    "axis.plot(df.index[tempo1_flare:tempo2_flare], df[\"R\"][tempo1_flare:tempo2_flare])\n",
    "axis.xaxis.set_major_formatter(DateFormatter('%H:%M'))\n",
    "\n",
    "plt.plot([df.index[tempo1_flare], df.index[tempo2_flare]],[media_final_r, media_final_r])\n",
    "\n",
    "fig2, axis = plt.subplots()\n",
    "# Usa o mesmo index do dataframe para o eixo x.\n",
    "axis.plot(df.index[tempo1_flare:tempo2_flare], df[\"L\"][tempo1_flare:tempo2_flare])\n",
    "axis.xaxis.set_major_formatter(DateFormatter('%H:%M'))\n",
    "\n",
    "plt.plot([df.index[tempo1_flare], df.index[tempo2_flare]],[media_final_l, media_final_l])"
   ]
  },
  {
   "cell_type": "code",
   "execution_count": null,
   "metadata": {},
   "outputs": [],
   "source": [
    "LM = df[\"L\"][tempo1_flare:tempo2_flare] - media_final_l\n",
    "RM = df[\"R\"][tempo1_flare:tempo2_flare] - media_final_r\n",
    "\n",
    "fig2, axis = plt.subplots()\n",
    "# Usa o mesmo index do dataframe para o eixo x.\n",
    "axis.plot(df.index[tempo1_flare:tempo2_flare], LM)\n",
    "axis.plot(df.index[tempo1_flare:tempo2_flare], RM)\n",
    "axis.xaxis.set_major_formatter(DateFormatter('%H:%M'))\n",
    "fig2.canvas.mpl_connect('button_press_event', onclick)"
   ]
  },
  {
   "cell_type": "code",
   "execution_count": null,
   "metadata": {},
   "outputs": [],
   "source": [
    "dados_da_media = calculo_da_media(df, True)\n",
    "\n",
    "indice_ig1_norm = dados_da_media[0]\n",
    "indice_ig2_norm = dados_da_media[1]\n",
    "media_final_r_norm = dados_da_media[2]\n",
    "media_final_l_norm = dados_da_media[3]\n",
    "tempo1_flare = dados_da_media[4]\n",
    "tempo2_flare = dados_da_media[5]"
   ]
  },
  {
   "cell_type": "code",
   "execution_count": null,
   "metadata": {},
   "outputs": [],
   "source": [
    "LM_normalizado = df[\"L_normalizado\"][tempo1_flare:tempo2_flare]\n",
    "RM_normalizado = df[\"R_normalizado\"][tempo1_flare:tempo2_flare]\n",
    "\n",
    "RL_V = df[\"L_normalizado\"][tempo1_flare:tempo2_flare] - df[\"R_normalizado\"][tempo1_flare:tempo2_flare]\n",
    "RL_I = df[\"L_normalizado\"][tempo1_flare:tempo2_flare] + df[\"R_normalizado\"][tempo1_flare:tempo2_flare]\n",
    "\n",
    "fig2, (axis, ax, ax2) = plt.subplots(3)\n",
    "# Usa o mesmo index do dataframe para o eixo x.\n",
    "axis.plot(df.index[tempo1_flare:tempo2_flare], LM_normalizado, label=\"L\")\n",
    "axis.plot(df.index[tempo1_flare:tempo2_flare], RM_normalizado, label=\"R\")\n",
    "axis.set_title(\"Analise 7 GHz\")\n",
    "axis.legend()\n",
    "axis.set_ylabel(\"Flux (SFU)\")\n",
    "\n",
    "ax.plot(df.index[tempo1_flare:tempo2_flare], RL_V)\n",
    "ax.set_ylabel(\"V (SFU)\")\n",
    "\n",
    "ax2.plot(df.index[tempo1_flare:tempo2_flare], RL_I)\n",
    "ax2.set_ylabel(\"I (SFU)\")\n",
    "axis.xaxis.set_major_formatter(DateFormatter('%H:%M'))\n",
    "\n",
    "# Salva o gráfico.\n",
    "nome_do_arquivo = \"I-V-Flux(SFU)\"\n",
    "fig2.savefig(CAMINHO_ABSOLUTO + diretorio + \"\\\\\" + nome_do_arquivo)"
   ]
  },
  {
   "cell_type": "code",
   "execution_count": null,
   "metadata": {},
   "outputs": [],
   "source": [
    "comeco_flare = str(df.index[tempo1_flare])\n",
    "fim_flare = str(df.index[tempo2_flare])\n",
    "\n",
    "comeco_flare = comeco_flare[0:19].replace('-', '/')\n",
    "fim_flare = fim_flare[0:19].replace('-', '/')\n",
    "\n",
    "print fim_flare\n",
    "\n",
    "tr = TimeRange('2002/09/04 10:34:25', '2002/09/04 15:06:28')\n",
    "goes = GOESLightCurve.create(tr)"
   ]
  },
  {
   "cell_type": "code",
   "execution_count": null,
   "metadata": {},
   "outputs": [],
   "source": [
    "goes.plot()\n",
    "\n",
    "nome_do_arquivo = \"GOES\"\n",
    "# TODO\n",
    "# Salvar gráfico.\n",
    "#.savefig(CAMINHO_ABSOLUTO + diretorio + \"\\\\\" + nome_do_arquivo)\n",
    "\n",
    "# plt.yscale('log')\n",
    "# plt.show()"
   ]
  },
  {
   "cell_type": "code",
   "execution_count": null,
   "metadata": {
    "scrolled": false
   },
   "outputs": [],
   "source": [
    "fig, axis = plt.subplots()\n",
    "\n",
    "axis.plot(goes.data.index, goes.data['xrsb'], 'r', label=\"0.5-4.0 \" + r\"$\\AA$\")\n",
    "axis.plot(goes.data.index, goes.data['xrsa'], 'b', label=\"1.0--8.0 \" + r\"$\\AA$\")\n",
    "\n",
    "axis.set_title(\"GOES Xray Flux\")\n",
    "axis.set_ylabel(\"Watts m^-2\")\n",
    "axis.yaxis.set_label_position(\"left\")\n",
    "axis.xaxis.set_major_formatter(DateFormatter('%H:%M'))\n",
    "\n",
    "plt.yscale(\"log\")\n",
    "fig.legend()\n",
    "\n",
    "fig.savefig(CAMINHO_ABSOLUTO + diretorio + \"\\\\\" + nome_do_arquivo)"
   ]
  },
  {
   "cell_type": "code",
   "execution_count": null,
   "metadata": {
    "scrolled": true
   },
   "outputs": [],
   "source": [
    "goes.data['xrsa']"
   ]
  },
  {
   "cell_type": "code",
   "execution_count": null,
   "metadata": {},
   "outputs": [],
   "source": [
    "print comeco_flare\n",
    "print fim_flare"
   ]
  },
  {
   "cell_type": "code",
   "execution_count": null,
   "metadata": {},
   "outputs": [],
   "source": [
    "client = hek.HEKClient()\n",
    "\n",
    "tipo_de_evento = 'FL'\n",
    "fl_result = client.search(hek.attrs.Time(comeco_flare, fim_flare),hek.attrs.EventType(tipo_de_evento))"
   ]
  },
  {
   "cell_type": "code",
   "execution_count": null,
   "metadata": {},
   "outputs": [],
   "source": [
    "for i in range(0, len(fl_result)):\n",
    "    print fl_result[i]['search_instrument']\n",
    "    if fl_result[i]['search_instrument'] == 'RHESSI':\n",
    "        posicao_rhessi = 'RHESSI', fl_result[i]['hgc_coord']\n",
    "        print posicao_rhessi\n",
    " \n",
    "ponto_x_rhessi = float(posicao_rhessi[1][6:16])\n",
    "ponto_y_rhessi = float(posicao_rhessi[1][17:24])"
   ]
  },
  {
   "cell_type": "code",
   "execution_count": null,
   "metadata": {},
   "outputs": [],
   "source": [
    "event_type = 'AR'\n",
    "ar_result = client.search(hek.attrs.Time(comeco_flare, fim_flare),hek.attrs.EventType(event_type))"
   ]
  },
  {
   "cell_type": "code",
   "execution_count": null,
   "metadata": {},
   "outputs": [],
   "source": [
    "ponto_y = []\n",
    "ponto_x = []\n",
    "# Salva todos os valores de x e y em duas listas.\n",
    "for i in range(0, len(ar_result)):\n",
    "    ponto_y.append(ar_result[i]['hgc_y'])\n",
    "    ponto_x.append(ar_result[i]['hgc_x'])\n",
    "\n",
    "# Pegas os pontos mais próximos, analisando todos os pontos dentro da lista,\n",
    "# e comparando com os dados pegos do rhessi.\n",
    "ponto_y = [ponto_mais_proximo(ponto_y, ponto_y_rhessi)]\n",
    "ponto_x = [ponto_mais_proximo(ponto_x, ponto_x_rhessi)]\n",
    "\n",
    "ponto_y = ponto_y[0]\n",
    "ponto_x = ponto_x[0]\n",
    "\n",
    "# Calcula a difereça na análise dos dois pontos.\n",
    "# A menor diferença será utilizada para o cálculo correto.\n",
    "diferenca_x_rhessi = abs(ponto_x - ponto_x_rhessi)\n",
    "diferenca_y_rhessi = abs(ponto_y - ponto_y_rhessi)\n",
    "\n",
    "# Analisa qual a menor diferenca entre os pontos do RHESSI e dos pontos mais proxímos.\n",
    "# Se a diferença de x for menor, então.\n",
    "if diferenca_x_rhessi < diferenca_y_rhessi:\n",
    "    menor_diferenca = diferenca_x_rhessi\n",
    "    for i in range(0, len(ar_result)):\n",
    "        if ar_result[i]['hgc_x'] == ponto_x:\n",
    "            regiao_ativa = ar_result[i]['hgs_coord']\n",
    "\n",
    "    # Printa a região ativa e troca o espaço por uma vígurla, por motivos de compatibilidade.\n",
    "    print regiao_ativa[5:].replace(' ', ',')\n",
    "    regiao_ativa = regiao_ativa[5:].replace(' ', ',')\n",
    "else:\n",
    "    menor_diferenca = diferenca_y_rhessi\n",
    "    for i in range(0, len(ar_result)):\n",
    "        if ar_result[i]['hgc_x'] == ponto_y:\n",
    "            regiao_ativa = ar_result[i]['hgs_coord']\n",
    "\n",
    "    print regiao_ativa[5:]\n",
    "    regiao_ativa = regiao_ativa[5:].replace(' ', ',')"
   ]
  },
  {
   "cell_type": "code",
   "execution_count": null,
   "metadata": {},
   "outputs": [],
   "source": [
    "fig2, axis = plt.subplots()\n",
    "# Usa o mesmo index do dataframe para o eixo x.\n",
    "axis.plot(df.index[tempo1_flare:tempo2_flare], LM_normalizado)\n",
    "axis.plot(df.index[tempo1_flare:tempo2_flare], RM_normalizado)\n",
    "axis.xaxis.set_major_formatter(DateFormatter('%H:%M'))\n",
    "fig2.canvas.mpl_connect('button_press_event', onclick)\n",
    "filename = \"grafico_normalizado\"\n",
    "fig2.savefig(CAMINHO_ABSOLUTO + diretorio + \"\\\\\" + filename)"
   ]
  },
  {
   "cell_type": "code",
   "execution_count": null,
   "metadata": {},
   "outputs": [],
   "source": [
    "posicao[-2][0]   \n",
    "posicao_inicial= num2date(posicao[-2][0])\n",
    "indice_de_y1 = calculo_de_indice(df,posicao_inicial)\n",
    "\n",
    "posicao[-1][0]   \n",
    "posicao_pico= num2date(posicao[-1][0])\n",
    "indice_de_y2  = calculo_de_indice(df,posicao_pico)\n",
    "\n",
    "ponto_do_r_inicial = indice_de_y1[0][2]\n",
    "print 'Ponto do R inicial:', ponto_do_r_inicial\n",
    "\n",
    "ponto_do_r_no_pico = indice_de_y2[0][2]\n",
    "print 'Ponto do R no pico:', ponto_do_r_no_pico\n",
    "\n",
    "ponto_do_l_inicial = indice_de_y1[0][3]\n",
    "print 'Ponto do L incial:', ponto_do_l_inicial\n",
    "\n",
    "ponto_do_l_no_pico = indice_de_y2[0][3]\n",
    "print 'Ponto do L no pico:', ponto_do_l_no_pico\n",
    "\n",
    "indice_de_y2, horario_do_pico  = calculo_de_indice(df,posicao_pico)\n",
    "\n",
    "tempo = df.index[horario_do_pico]\n",
    "print 'Tempo:', tempo"
   ]
  },
  {
   "cell_type": "code",
   "execution_count": null,
   "metadata": {},
   "outputs": [],
   "source": [
    "I = ((ponto_do_r_no_pico - ponto_do_r_inicial) + (ponto_do_l_no_pico - ponto_do_l_inicial))\n",
    "print \"Cálculo do I:\", I\n",
    "V = ((ponto_do_r_no_pico - ponto_do_r_inicial) - (ponto_do_l_no_pico - ponto_do_l_inicial))\n",
    "print \"Cálculo do V:\", V"
   ]
  },
  {
   "cell_type": "code",
   "execution_count": null,
   "metadata": {},
   "outputs": [],
   "source": [
    "GP_dividendo = ((ponto_do_r_no_pico - ponto_do_r_inicial) - (ponto_do_l_no_pico - ponto_do_l_inicial))\n",
    "GP_divisor = ((ponto_do_r_no_pico - ponto_do_r_inicial) + (ponto_do_l_no_pico - ponto_do_l_inicial))\n",
    "\n",
    "# Grau de polarização.\n",
    "GP = (GP_dividendo / GP_divisor) * 100\n",
    "print 'Grau de Polarização:', GP"
   ]
  },
  {
   "cell_type": "code",
   "execution_count": null,
   "metadata": {},
   "outputs": [],
   "source": [
    "regiao_ativa = input(\"Regiao ativa: \")"
   ]
  },
  {
   "cell_type": "code",
   "execution_count": null,
   "metadata": {},
   "outputs": [],
   "source": [
    "resultados_finais = np.transpose([[tempo], [ponto_do_r_inicial], [ponto_do_l_inicial],\n",
    "                                  [ponto_do_r_no_pico], [ponto_do_l_no_pico], [GP],\n",
    "                                  [I], [V], [regiao_ativa]])\n",
    "\n",
    "jkl = pd.DataFrame(resultados_finais, columns = ['Time','PR','PL','PRP','PLP','GP','I','V', 'AR'])\n",
    "jkl.to_csv(CAMINHO_ABSOLUTO + '\\\\Grau_de_polarizacao\\\\' + filename + '.csv', header=None, sep=' ', mode='a', index=False)"
   ]
  }
 ],
 "metadata": {
  "kernelspec": {
   "display_name": "Python 3",
   "language": "python",
   "name": "python3"
  },
  "language_info": {
   "codemirror_mode": {
    "name": "ipython",
    "version": 3
   },
   "file_extension": ".py",
   "mimetype": "text/x-python",
   "name": "python",
   "nbconvert_exporter": "python",
   "pygments_lexer": "ipython3",
   "version": "3.6.5"
  }
 },
 "nbformat": 4,
 "nbformat_minor": 2
}
