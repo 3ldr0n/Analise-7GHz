{
 "cells": [
  {
   "cell_type": "code",
   "execution_count": null,
   "metadata": {},
   "outputs": [],
   "source": [
    "from __future__ import print_function\n",
    "%matplotlib nbagg\n",
    "\n",
    "import datetime as dt\n",
    "import os\n",
    "import platform\n",
    "\n",
    "import matplotlib.pyplot as plt\n",
    "import numpy as np\n",
    "import pandas as pd\n",
    "\n",
    "from matplotlib.dates import num2date, DateFormatter\n",
    "from scipy.io import readsav\n",
    "from sunpy.lightcurve import GOESLightCurve, LightCurve\n",
    "from sunpy.time import TimeRange\n",
    "from noaareport import NoaaReport\n",
    "\n",
    "from utils import (\n",
    "    onclick, posicao, calculo_de_indice, load_dados,\n",
    "    calculo_da_media, CAMINHO_ABSOLUTO, ponto_mais_proximo\n",
    ")"
   ]
  },
  {
   "cell_type": "code",
   "execution_count": null,
   "metadata": {},
   "outputs": [],
   "source": [
    "dia = \"18\"\n",
    "mes = \"12\"\n",
    "ano = \"2009\"\n",
    "df, time, diretorio = load_dados(dia, mes, ano)"
   ]
  },
  {
   "cell_type": "code",
   "execution_count": null,
   "metadata": {
    "scrolled": false
   },
   "outputs": [],
   "source": [
    "plt.rcParams['figure.figsize'] = 7,5\n",
    "fig, axis = plt.subplots()\n",
    "\n",
    "# Usa o index do dataframe para o eixo x.\n",
    "axis.plot(df[\"L\"], label=\"L\")\n",
    "axis.plot(df[\"R\"], label=\"R\")\n",
    "axis.xaxis.set_major_formatter(DateFormatter('%H:%M'))\n",
    "plt.legend()\n",
    "fig.canvas.mpl_connect('button_press_event', onclick)\n",
    "fig.savefig(CAMINHO_ABSOLUTO + diretorio + \"\\\\\" +\"dia_inteiro\")"
   ]
  },
  {
   "cell_type": "code",
   "execution_count": null,
   "metadata": {
    "scrolled": false
   },
   "outputs": [],
   "source": [
    "\"\"\"\n",
    " Ordem de seleção:\n",
    "  Os dois últimos (últimos) selecionados são usados para o calculo das médias.\n",
    "  Os dois penúltimos (primeiros) selecionados são usados para representar a média\n",
    "  no grafico.\n",
    "\"\"\"\n",
    "dados_da_media = calculo_da_media(df)\n",
    "\n",
    "indice_ig1 = dados_da_media[0]\n",
    "indice_ig2 = dados_da_media[1]\n",
    "medias = dados_da_media[2]\n",
    "media_final_r = medias['R']\n",
    "media_final_l = medias['L']\n",
    "tempo1_flare = dados_da_media[3]\n",
    "tempo2_flare = dados_da_media[4]"
   ]
  },
  {
   "cell_type": "code",
   "execution_count": null,
   "metadata": {
    "scrolled": false
   },
   "outputs": [],
   "source": [
    "fig_R, axis = plt.subplots()\n",
    "# Usa o mesmo index do dataframe para o eixo x.\n",
    "axis.plot(df[\"R\"][tempo1_flare:tempo2_flare])\n",
    "axis.xaxis.set_major_formatter(DateFormatter('%H:%M'))\n",
    "\n",
    "#plt.plot([df.index[tempo1_flare], df.index[tempo2_flare]],[media_final_r, media_final_r])\n",
    "\n",
    "fig_L, axis = plt.subplots()\n",
    "# Usa o mesmo index do dataframe para o eixo x.\n",
    "axis.plot(df[\"L\"][tempo1_flare:tempo2_flare])\n",
    "axis.xaxis.set_major_formatter(DateFormatter('%H:%M'))\n",
    "\n",
    "#plt.plot([df.index[tempo1_flare], df.index[tempo2_flare]],[media_final_l, media_final_l])"
   ]
  },
  {
   "cell_type": "code",
   "execution_count": null,
   "metadata": {
    "scrolled": false
   },
   "outputs": [],
   "source": [
    "LM_normalizado = df[\"L_normalizado\"][tempo1_flare:tempo2_flare]\n",
    "RM_normalizado = df[\"R_normalizado\"][tempo1_flare:tempo2_flare]\n",
    "\n",
    "RL_V = df[\"R_normalizado\"][tempo1_flare:tempo2_flare] - df[\"L_normalizado\"][tempo1_flare:tempo2_flare]\n",
    "RL_I = df[\"L_normalizado\"][tempo1_flare:tempo2_flare] + df[\"R_normalizado\"][tempo1_flare:tempo2_flare]\n",
    "\n",
    "fig_IV, (axis, ax, ax2) = plt.subplots(3)\n",
    "\n",
    "# Usa o mesmo index do dataframe para o eixo x.\n",
    "axis.plot(LM_normalizado, label=\"L\")\n",
    "axis.plot(RM_normalizado, label=\"R\")\n",
    "axis.set_title(\"Analise 7 GHz\")\n",
    "axis.legend()\n",
    "axis.set_ylabel(\"Flux (SFU)\")\n",
    "axis.yaxis.grid(color='gray')\n",
    "\n",
    "ax.plot(RL_I)\n",
    "ax.set_ylabel(\"I (SFU)\")\n",
    "ax.yaxis.grid(color='gray')\n",
    "\n",
    "ax2.plot(RL_V)\n",
    "ax2.set_ylabel(\"V (SFU)\")\n",
    "ax2.yaxis.grid(color='gray')\n",
    "\n",
    "axis.xaxis.set_major_formatter(DateFormatter('%H:%M'))\n",
    "ax.xaxis.set_major_formatter(DateFormatter('%H:%M'))\n",
    "ax2.xaxis.set_major_formatter(DateFormatter('%H:%M'))\n",
    "pico_7ghz = max(RL_I)\n",
    "\n",
    "# Salva o gráfico.\n",
    "nome_do_arquivo = \"I-V-Flux(SFU)\"\n",
    "if platform.system() == \"Linux\":\n",
    "    fig_IV.savefig(CAMINHO_ABSOLUTO + diretorio + \"/\" + nome_do_arquivo)\n",
    "else:\n",
    "    fig_IV.savefig(CAMINHO_ABSOLUTO + diretorio + \"\\\\\" + nome_do_arquivo)"
   ]
  },
  {
   "cell_type": "code",
   "execution_count": null,
   "metadata": {},
   "outputs": [],
   "source": [
    "fig, axis = plt.subplots()\n",
    "\n",
    "# Usa o index do dataframe para o eixo x.\n",
    "axis.plot(df[\"R_normalizado\"])\n",
    "axis.plot(df[\"L_normalizado\"])\n",
    "axis.xaxis.set_major_formatter(DateFormatter('%H:%M'))\n",
    "fig.canvas.mpl_connect('button_press_event', onclick)"
   ]
  },
  {
   "cell_type": "code",
   "execution_count": null,
   "metadata": {
    "scrolled": false
   },
   "outputs": [],
   "source": [
    "print(posicao[-1])\n",
    "pico_7ghz = str(num2date(posicao[-1][1]))"
   ]
  },
  {
   "cell_type": "markdown",
   "metadata": {},
   "source": [
    "## Região Ativa"
   ]
  },
  {
   "cell_type": "code",
   "execution_count": null,
   "metadata": {
    "scrolled": false
   },
   "outputs": [],
   "source": [
    "comeco_flare = str(df.index[tempo1_flare])[0:19]\n",
    "fim_flare = str(df.index[tempo2_flare])[0:19]\n",
    "\n",
    "caminho_eventos = \"Eventos/\" + ano + \"_events/\"\n",
    "report = NoaaReport(ano, mes, dia, caminho_eventos)\n",
    "noaa_df = report.get_dataframe()\n",
    "with pd.option_context('display.max_rows', None, 'display.max_columns', None):\n",
    "    print(noaa_df)\n",
    "ars = report.get_active_region(comeco_flare, fim_flare)"
   ]
  },
  {
   "cell_type": "code",
   "execution_count": null,
   "metadata": {},
   "outputs": [],
   "source": [
    "ar = \"None\"\n",
    "ar_noaa = \"1035\""
   ]
  },
  {
   "cell_type": "markdown",
   "metadata": {},
   "source": [
    "## Grau de polarização"
   ]
  },
  {
   "cell_type": "code",
   "execution_count": null,
   "metadata": {
    "scrolled": false
   },
   "outputs": [],
   "source": [
    "fig_7ghz, axis = plt.subplots()\n",
    "\n",
    "# Usa o mesmo index do dataframe para o eixo x.\n",
    "axis.plot(LM_normalizado, label=\"L\")\n",
    "axis.plot(RM_normalizado, label=\"R\")\n",
    "axis.xaxis.set_major_formatter(DateFormatter('%H:%M'))\n",
    "\n",
    "axis.legend()\n",
    "axis.set_ylabel(\"Flux (SFU)\")\n",
    "axis.set_xlabel(\"Horário\")\n",
    "plt.title(\"Evento 7GHz\")\n",
    "\n",
    "fig_7ghz.canvas.mpl_connect('button_press_event', onclick)\n",
    "\n",
    "filename = \"grafico_normalizado\"\n",
    "if platform.system() == \"Linux\":\n",
    "    fig_7ghz.savefig(CAMINHO_ABSOLUTO + diretorio + \"/\" + filename)\n",
    "else:\n",
    "    fig_7ghz.savefig(CAMINHO_ABSOLUTO + diretorio + \"\\\\\" + filename)"
   ]
  },
  {
   "cell_type": "code",
   "execution_count": null,
   "metadata": {},
   "outputs": [],
   "source": [
    "posicao_inicial= num2date(posicao[-1][0])\n",
    "indice_de_y1 = calculo_de_indice(df, posicao_inicial)\n",
    "\n",
    "pico_R = max(df[\"R_normalizado\"][tempo1_flare:tempo2_flare])\n",
    "pico_L = max(df[\"L_normalizado\"][tempo1_flare:tempo2_flare])\n",
    "\n",
    "ponto_do_r_inicial = indice_de_y1[0][2]\n",
    "ponto_do_r_inicial = float(\"{:.3f}\".format(ponto_do_r_inicial))\n",
    "print('Ponto do R inicial:', ponto_do_r_inicial)\n",
    "\n",
    "ponto_do_r_no_pico = float(str(pico_R)[0:7])\n",
    "ponto_do_r_no_pico = float(\"{:.3f}\".format(ponto_do_r_no_pico))\n",
    "print('Ponto do R no pico:', ponto_do_r_no_pico)\n",
    "\n",
    "ponto_do_l_inicial = indice_de_y1[0][3]\n",
    "ponto_do_l_inicial = float(\"{:.3f}\".format(ponto_do_l_inicial))\n",
    "print('Ponto do L incial:', ponto_do_l_inicial)\n",
    "\n",
    "ponto_do_l_no_pico = float(str(pico_L)[0:7])\n",
    "ponto_do_l_no_pico = float(\"{:.3f}\".format(ponto_do_l_no_pico))\n",
    "print('Ponto do L no pico:', ponto_do_l_no_pico)\n",
    "\n",
    "# Procura o horario do pico.\n",
    "for data in enumerate(df[\"R_normalizado\"]):\n",
    "    # Se encontrar o valor do pico, cria a variavel horario_do_pico.\n",
    "    if data[1] == pico_R:\n",
    "        horario_do_pico = df[\"R_normalizado\"].index[data[0]]\n",
    "\n",
    "tempo = str(horario_do_pico)[0:26]\n",
    "print('Tempo:', tempo)"
   ]
  },
  {
   "cell_type": "code",
   "execution_count": null,
   "metadata": {},
   "outputs": [],
   "source": [
    "I = ((ponto_do_r_no_pico - ponto_do_r_inicial) + (ponto_do_l_no_pico - ponto_do_l_inicial))\n",
    "I = float(\"{:.3f}\".format(I))\n",
    "print(\"Cálculo do I:\", I)\n",
    "\n",
    "V = ((ponto_do_r_no_pico - ponto_do_r_inicial) - (ponto_do_l_no_pico - ponto_do_l_inicial))\n",
    "V = float(\"{:.3f}\".format(V))\n",
    "print(\"Cálculo do V:\", V)"
   ]
  },
  {
   "cell_type": "code",
   "execution_count": null,
   "metadata": {},
   "outputs": [],
   "source": [
    "# Grau de polarização.\n",
    "GP = (V / I) * 100\n",
    "GP = float(\"{:.3f}\".format(GP))\n",
    "print('Grau de Polarização:', GP)"
   ]
  },
  {
   "cell_type": "code",
   "execution_count": null,
   "metadata": {},
   "outputs": [],
   "source": [
    "horario_pico = str(horario_do_pico)[:19].replace(\" \", \"_\")\n",
    "comeco_flare = comeco_flare.replace(\" \", \"_\")\n",
    "fim_flare = fim_flare.replace(\" \", \"_\")"
   ]
  },
  {
   "cell_type": "code",
   "execution_count": null,
   "metadata": {},
   "outputs": [],
   "source": [
    "print(\"Começo: {}\".format(comeco_flare))\n",
    "print(\"Pico: {}\".format(horario_pico))\n",
    "print(\"Fim: {}\".format(fim_flare))"
   ]
  },
  {
   "cell_type": "code",
   "execution_count": null,
   "metadata": {},
   "outputs": [],
   "source": [
    "resultados_finais = np.transpose([\n",
    "    [comeco_flare],\n",
    "    [horario_pico],\n",
    "    [fim_flare],\n",
    "    [GP], [I], [V],\n",
    "    [ar], [ar_noaa]\n",
    "])\n",
    "columns = ['begin','max','end', 'GP','I','V', 'AR', 'AR_NOAA']\n",
    "dados = pd.DataFrame(resultados_finais, columns=columns)\n",
    "\n",
    "if platform.system() == \"Linux\":\n",
    "    dados.to_csv(CAMINHO_ABSOLUTO + \"/eventos_wavelet/eventos.csv\", header=None, sep='\\t', mode='a', index=False)\n",
    "else:\n",
    "    dados.to_csv(CAMINHO_ABSOLUTO + \"\\eventos_wavelet\\eventos.csv\", header=None, sep='\\t', mode='a', index=False)"
   ]
  }
 ],
 "metadata": {
  "kernelspec": {
   "display_name": "Python 3",
   "language": "python",
   "name": "python3"
  },
  "language_info": {
   "codemirror_mode": {
    "name": "ipython",
    "version": 3
   },
   "file_extension": ".py",
   "mimetype": "text/x-python",
   "name": "python",
   "nbconvert_exporter": "python",
   "pygments_lexer": "ipython3",
   "version": "3.6.5"
  }
 },
 "nbformat": 4,
 "nbformat_minor": 2
}
